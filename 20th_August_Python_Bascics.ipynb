{
 "cells": [
  {
   "cell_type": "markdown",
   "id": "dd6cb662-886f-42c6-bb99-ccea01c846a6",
   "metadata": {
    "tags": []
   },
   "source": [
    "## String Based Assignment Problem"
   ]
  },
  {
   "cell_type": "markdown",
   "id": "2916d95c-3d79-4d50-9a78-4f9a622f6bd0",
   "metadata": {},
   "source": [
    "1. Write a program to reverse a string."
   ]
  },
  {
   "cell_type": "code",
   "execution_count": null,
   "id": "eadbf17b-958a-4bf3-82b3-895ff11c72dc",
   "metadata": {},
   "outputs": [],
   "source": [
    "a = \"ajit\"\n",
    "a[::-1]"
   ]
  },
  {
   "cell_type": "markdown",
   "id": "605a65ab-6d69-4d28-aacf-eb0ff37fd9e4",
   "metadata": {},
   "source": [
    "2. Check if a string is a palindrome.\n"
   ]
  },
  {
   "cell_type": "code",
   "execution_count": null,
   "id": "c9ab32ea-3864-4998-a001-66a3cee239a6",
   "metadata": {},
   "outputs": [],
   "source": [
    "a = \"level\"\n",
    "b = a[::-1]\n",
    "if a == b:\n",
    "    print(\"String is palindrome\")\n",
    "else:\n",
    "    print(\"Sting is not a palindrome\")"
   ]
  },
  {
   "cell_type": "markdown",
   "id": "78f20db7-be10-455d-8dfc-16de27456959",
   "metadata": {},
   "source": [
    "3. Convert a string to uppercase.\n"
   ]
  },
  {
   "cell_type": "code",
   "execution_count": null,
   "id": "f6e51927-2833-44e5-b2d9-2110ae1a6323",
   "metadata": {},
   "outputs": [],
   "source": [
    "a = \"ajit\"\n",
    "a.upper()"
   ]
  },
  {
   "cell_type": "markdown",
   "id": "f73f4d96-dc76-4034-8e80-235bf60d77f8",
   "metadata": {},
   "source": [
    "4. Convert a string to lowercase.\n"
   ]
  },
  {
   "cell_type": "code",
   "execution_count": null,
   "id": "2a7667b2-a848-415e-8550-1abf39ee35e1",
   "metadata": {},
   "outputs": [],
   "source": [
    "a = \"Ajit\"\n",
    "a.lower()"
   ]
  },
  {
   "cell_type": "markdown",
   "id": "c717e3d8-9297-44fe-b38f-776009145f53",
   "metadata": {},
   "source": [
    "5. Count the number of vowels in a string."
   ]
  },
  {
   "cell_type": "code",
   "execution_count": null,
   "id": "5fc2b533-e6ad-432e-9b60-0b95f620c139",
   "metadata": {},
   "outputs": [],
   "source": [
    "string = \"HEllo world!\"\n",
    "string = string.lower()\n",
    "vowels = \"aeiou\"\n",
    "i = 0\n",
    "for a in string:\n",
    "    if a in vowels:\n",
    "        i += 1\n",
    "\n",
    "print(i)"
   ]
  },
  {
   "cell_type": "markdown",
   "id": "4611d908-1645-4c67-929b-577d65488fcc",
   "metadata": {},
   "source": [
    "6. Count the number of consonants in a string."
   ]
  },
  {
   "cell_type": "code",
   "execution_count": null,
   "id": "22b40480-b3ac-4c1f-b3c7-6d2328c9c2ba",
   "metadata": {},
   "outputs": [],
   "source": [
    "string = \"HEllo world!\"\n",
    "string = string.lower()\n",
    "vowels = \"bcdfgjklmnpqstvxzhrwy\"\n",
    "i = 0\n",
    "for a in string:\n",
    "    if a  in vowels:\n",
    "        i += 1\n",
    "\n",
    "print(i)"
   ]
  },
  {
   "cell_type": "markdown",
   "id": "57d20e66-0a34-43ca-9c95-bc08b0cf4d9e",
   "metadata": {},
   "source": [
    "7. Remove all whitespaces from a string."
   ]
  },
  {
   "cell_type": "code",
   "execution_count": null,
   "id": "673b0e14-3064-465e-8999-4be84ca49d42",
   "metadata": {},
   "outputs": [],
   "source": [
    "text = \"hello, how are you?\"\n",
    "format_data = text.replace(\" \", \"\")\n",
    "print(format_data)"
   ]
  },
  {
   "cell_type": "markdown",
   "id": "31916d48-8543-4db1-8c8e-647233d6e3de",
   "metadata": {},
   "source": [
    "8. Find the length of a string without using the `len()` function."
   ]
  },
  {
   "cell_type": "code",
   "execution_count": null,
   "id": "a0b2f0e9-7d47-4bb0-ba0b-352cd3f0cc35",
   "metadata": {},
   "outputs": [],
   "source": [
    "text = \"hello world!\"\n",
    "count = 0\n",
    "for s in text:\n",
    "    count += 1\n",
    "    \n",
    "print(count)"
   ]
  },
  {
   "cell_type": "markdown",
   "id": "4b688336-2ff3-4f21-9b63-e8bb9ca2b523",
   "metadata": {},
   "source": [
    "9. Check if a string contains a specific word."
   ]
  },
  {
   "cell_type": "code",
   "execution_count": null,
   "id": "c334b8ad-716d-4d8e-8a4f-a72fed708992",
   "metadata": {},
   "outputs": [],
   "source": [
    "text = \"hello, how are you?\"\n",
    "search_string = \"how\"\n",
    "\n",
    "if search_string in text:\n",
    "    print(\"String found\")\n",
    "else:\n",
    "    print(\"String not found\")\n"
   ]
  },
  {
   "cell_type": "markdown",
   "id": "43ff1bda-63a3-4071-8afb-0c3e3130f5ee",
   "metadata": {},
   "source": [
    "10. Replace a word in a string with another word."
   ]
  },
  {
   "cell_type": "code",
   "execution_count": null,
   "id": "c46e220a-1db3-4c7d-9044-854656f4daed",
   "metadata": {},
   "outputs": [],
   "source": [
    "string = \"hello, how are you?\"\n",
    "string.replace(\"how\",\"howdy\")"
   ]
  },
  {
   "cell_type": "markdown",
   "id": "c96a4e32-5a68-4b58-835b-50492401b53f",
   "metadata": {},
   "source": [
    "11. Count the occurrences of a word in a string."
   ]
  },
  {
   "cell_type": "code",
   "execution_count": null,
   "id": "cd507837-0838-4f04-b683-a30e6997bb8b",
   "metadata": {},
   "outputs": [],
   "source": [
    "text = \"Hello how are your doing where are your\"\n",
    "word_search = \"are\"\n",
    "words = text.split()\n",
    "count = 0\n",
    "\n",
    "for word in words:\n",
    "    if word == word_search:\n",
    "        count += 1\n",
    "    \n",
    "print(f\"The word '{word_search}' appears {count} times.\")"
   ]
  },
  {
   "cell_type": "markdown",
   "id": "f18779d5-5cd5-4512-be81-c9c1c84be41b",
   "metadata": {},
   "source": [
    "12. Find the first occurrence of a word in a string."
   ]
  },
  {
   "cell_type": "code",
   "execution_count": null,
   "id": "2cafe4b0-e07b-44f4-ab0f-cabd451652ca",
   "metadata": {},
   "outputs": [],
   "source": [
    "text = \"Hello how are your doing where are your\"\n",
    "word_search = \"are\"\n",
    "\n",
    "index = text.find(word_search)\n",
    "\n",
    "print(f\"The first occurance of word '{word_search}' at index {index}\")"
   ]
  },
  {
   "cell_type": "markdown",
   "id": "ed9e8f3f-4d0b-46af-895b-fde2e2580db0",
   "metadata": {},
   "source": [
    "13. Find the last occurrence of a word in a string."
   ]
  },
  {
   "cell_type": "code",
   "execution_count": null,
   "id": "444cb915-6ca0-4412-9560-e483b4670c51",
   "metadata": {},
   "outputs": [],
   "source": [
    "text = \"Hello how are your doing where are your\"\n",
    "word_search = \"are\"\n",
    "\n",
    "index = text.rfind(word_search)\n",
    "\n",
    "print(f\"The first occurance of word '{word_search}' at index {index}\")"
   ]
  },
  {
   "cell_type": "markdown",
   "id": "0f8ecc88-f018-4c0b-848d-1e8ece8eab78",
   "metadata": {},
   "source": [
    "14. Split a string into a list of words."
   ]
  },
  {
   "cell_type": "code",
   "execution_count": null,
   "id": "d069f651-5831-4328-8fbc-411fa1b03fcc",
   "metadata": {},
   "outputs": [],
   "source": [
    "text = \"Hello how are your doing where are your\"\n",
    "words = text.split()\n",
    "words"
   ]
  },
  {
   "cell_type": "markdown",
   "id": "9a164e4e-6380-4050-b57d-cda177d49b85",
   "metadata": {},
   "source": [
    "15. Join a list of words into a string."
   ]
  },
  {
   "cell_type": "code",
   "execution_count": null,
   "id": "947b3d7b-6ce7-40a1-b826-012b4c813437",
   "metadata": {},
   "outputs": [],
   "source": [
    "text = ['Hello', 'how', 'are', 'your', 'doing', 'where', 'are', 'your']\n",
    "words = \" \".join(text)\n",
    "words"
   ]
  },
  {
   "cell_type": "markdown",
   "id": "b8163164-d69e-4705-8d2f-f14d7224690d",
   "metadata": {},
   "source": [
    "16. Convert a string where words are separated by spaces to one where words are separated by underscores."
   ]
  },
  {
   "cell_type": "code",
   "execution_count": null,
   "id": "ba0c545b-fd1e-4abb-8e00-f89020d5ea03",
   "metadata": {},
   "outputs": [],
   "source": [
    "text = \"Hello how are you doing\"\n",
    "text.replace(\" \",\"_\")"
   ]
  },
  {
   "cell_type": "markdown",
   "id": "a26e7eb7-9e58-4e97-8455-82084752e02c",
   "metadata": {},
   "source": [
    "17. Check if a string starts with a specific word or phrase."
   ]
  },
  {
   "cell_type": "code",
   "execution_count": null,
   "id": "d9ffba3c-9e53-4d37-bd76-dacd3b4fea44",
   "metadata": {},
   "outputs": [],
   "source": [
    "text = \"Hello how are your doing where are your\"\n",
    "\n",
    "text.startswith(\"Hello\")"
   ]
  },
  {
   "cell_type": "markdown",
   "id": "6f912297-b043-49a6-bdca-a9cb3382e4dc",
   "metadata": {},
   "source": [
    "18. Check if a string ends with a specific word or phrase."
   ]
  },
  {
   "cell_type": "code",
   "execution_count": null,
   "id": "efa74153-1058-4180-932e-64171d8d2e19",
   "metadata": {},
   "outputs": [],
   "source": [
    "text = \"Hello how are your doing where are your\"\n",
    "\n",
    "text.endswith(\"your\")"
   ]
  },
  {
   "cell_type": "markdown",
   "id": "2239e9ba-de29-4718-b309-6827a75373b0",
   "metadata": {},
   "source": [
    "19. Convert a string to title case (e.g., \"hello world\" to \"Hello World\")."
   ]
  },
  {
   "cell_type": "code",
   "execution_count": null,
   "id": "30ff3d0e-44f0-4983-bd3e-d7f93eca8c8a",
   "metadata": {},
   "outputs": [],
   "source": [
    "text = \"hello world\"\n",
    "text.title()"
   ]
  },
  {
   "cell_type": "markdown",
   "id": "b159be67-8878-4ca0-af32-557cd782120e",
   "metadata": {},
   "source": [
    "20. Find the longest word in a string."
   ]
  },
  {
   "cell_type": "code",
   "execution_count": null,
   "id": "ecf295fd-b39b-423e-9c13-e91489bbf4ca",
   "metadata": {},
   "outputs": [],
   "source": [
    "text = \"Is it raining\"\n",
    "words = text.split()\n",
    "max_word = \"\"\n",
    "\n",
    "for word in words:\n",
    "    if len(word) > len(max_word):\n",
    "        max_word = word\n",
    "        \n",
    "max_word"
   ]
  },
  {
   "cell_type": "markdown",
   "id": "78347bed-f288-4e30-ab27-62494570d077",
   "metadata": {},
   "source": [
    "21. Find the shortest word in a string."
   ]
  },
  {
   "cell_type": "code",
   "execution_count": null,
   "id": "de30ed0a-1ab7-49ff-956a-58098b798a12",
   "metadata": {},
   "outputs": [],
   "source": [
    "text = \"Are we going out\"\n",
    "words = text.split()\n",
    "min_word = words[0]\n",
    "\n",
    "for word in words:\n",
    "    if len(word) < len(min_word):\n",
    "        min_word = word\n",
    "        \n",
    "min_word"
   ]
  },
  {
   "cell_type": "markdown",
   "id": "a0785973-322b-426b-a024-955cc5ecf402",
   "metadata": {},
   "source": [
    "22. Reverse the order of words in a string."
   ]
  },
  {
   "cell_type": "code",
   "execution_count": null,
   "id": "0e53af7a-3946-47ab-baee-3d4c9ea6621c",
   "metadata": {},
   "outputs": [],
   "source": [
    "text = \"Are we going out\"\n",
    "words = text.split()\n",
    "text = \" \".join(reversed(words))\n",
    "text"
   ]
  },
  {
   "cell_type": "markdown",
   "id": "ed246433-ac87-41d2-ab88-742a9e8422bf",
   "metadata": {},
   "source": [
    "23. Check if a string is alphanumeric."
   ]
  },
  {
   "cell_type": "code",
   "execution_count": null,
   "id": "07bbf850-06d4-42b8-bc81-1fa49cdcf090",
   "metadata": {},
   "outputs": [],
   "source": [
    "text = \"ajitk15\"\n",
    "text.isalnum()"
   ]
  },
  {
   "cell_type": "markdown",
   "id": "7faa06c3-4659-455e-bd02-821170eece22",
   "metadata": {},
   "source": [
    "24. Extract all digits from a string."
   ]
  },
  {
   "cell_type": "code",
   "execution_count": null,
   "id": "f03667c1-a40f-4df5-8667-ba5b051b7186",
   "metadata": {},
   "outputs": [],
   "source": [
    "text = \"ajitk15\"\n",
    "for t in text:\n",
    "    if t.isnumeric():\n",
    "        print(t)"
   ]
  },
  {
   "cell_type": "markdown",
   "id": "e6b2ca0e-d5fb-4e39-a427-d29ff1a8ddfb",
   "metadata": {},
   "source": [
    "25. Extract all alphabets from a string."
   ]
  },
  {
   "cell_type": "code",
   "execution_count": null,
   "id": "fde76b3d-42fe-4d40-9168-af6ef4e3438a",
   "metadata": {},
   "outputs": [],
   "source": [
    "text = \"ajitk15\"\n",
    "for t in text:\n",
    "    if t.isalpha():\n",
    "        print(t)"
   ]
  },
  {
   "cell_type": "markdown",
   "id": "ebe1e50b-dd19-4954-88c0-01f804dd62a3",
   "metadata": {},
   "source": [
    "26. Count the number of uppercase letters in a string."
   ]
  },
  {
   "cell_type": "code",
   "execution_count": null,
   "id": "345d6b4a-6a7d-48b1-be73-2e66245001cd",
   "metadata": {},
   "outputs": [],
   "source": [
    "text = \"Hello How Are You\"\n",
    "count = 0\n",
    "for t in text:\n",
    "    if t.isupper():\n",
    "        count += 1\n",
    "\n",
    "count"
   ]
  },
  {
   "cell_type": "markdown",
   "id": "aa8b0f21-4c44-4f2b-be8b-739edafc0646",
   "metadata": {},
   "source": [
    "27. Count the number of lowercase letters in a string."
   ]
  },
  {
   "cell_type": "code",
   "execution_count": null,
   "id": "76d679ec-7d1e-476d-9d72-f72b8c412a5b",
   "metadata": {},
   "outputs": [],
   "source": [
    "text = \"Hello How Are You\"\n",
    "count = 0\n",
    "for t in text:\n",
    "    if t.islower():\n",
    "        count += 1\n",
    "\n",
    "count"
   ]
  },
  {
   "cell_type": "markdown",
   "id": "65537042-c00c-45ce-b6cb-e0dcc5faec1f",
   "metadata": {},
   "source": [
    "28. Swap the case of each character in a string."
   ]
  },
  {
   "cell_type": "code",
   "execution_count": null,
   "id": "1b620300-f7df-493c-8ae6-ba4e9ce18215",
   "metadata": {},
   "outputs": [],
   "source": [
    "text = \"Hello How Are You\"\n",
    "format_text = text.swapcase()\n",
    "format_text"
   ]
  },
  {
   "cell_type": "markdown",
   "id": "7f23654c-125a-47cd-8cc0-71d8a772d92a",
   "metadata": {},
   "source": [
    "29. Remove a specific word from a string."
   ]
  },
  {
   "cell_type": "code",
   "execution_count": null,
   "id": "c0a6609b-e232-4e28-b3c4-1ab0eba73144",
   "metadata": {},
   "outputs": [],
   "source": [
    "text = \"Hello How Are You\"\n",
    "text = text.replace(\"Are\", \"\")\n",
    "text"
   ]
  },
  {
   "cell_type": "markdown",
   "id": "7a66fa15-632c-4171-8ee6-5f78236e513a",
   "metadata": {},
   "source": [
    "30. Check if a string is a valid email address."
   ]
  },
  {
   "cell_type": "code",
   "execution_count": null,
   "id": "283273f6-3763-456a-8c3b-96200294f578",
   "metadata": {},
   "outputs": [],
   "source": [
    "import re\n",
    "email = \"ajit@ajit.com\"\n",
    "regx = r'^[\\w\\.-]+@[\\w\\.-]+\\.\\w+$'\n",
    "\n",
    "if re.match(regx, email):\n",
    "    print(\"Given string is a email\")\n",
    "else:\n",
    "    print(\"Given string is not a email\")"
   ]
  },
  {
   "cell_type": "markdown",
   "id": "21fed123-38da-4fbb-a004-04f59bf2f26f",
   "metadata": {},
   "source": [
    "31. Extract the username from an email address string."
   ]
  },
  {
   "cell_type": "code",
   "execution_count": null,
   "id": "878ebd10-9750-4ba5-8b52-0c30c1f7a872",
   "metadata": {},
   "outputs": [],
   "source": [
    "email = \"ajit@ajit.com\"\n",
    "username = email.split(\"@\")\n",
    "username[0]"
   ]
  },
  {
   "cell_type": "markdown",
   "id": "8d09be9e-2731-4945-9090-985b70962048",
   "metadata": {},
   "source": [
    "32. Extract the domain name from an email address string."
   ]
  },
  {
   "cell_type": "code",
   "execution_count": null,
   "id": "2707e4f4-1bfa-41b2-9e42-592b6ebce4ed",
   "metadata": {},
   "outputs": [],
   "source": [
    "email = \"ajit@ajit.com\"\n",
    "username = email.split(\"@\")\n",
    "username[1]"
   ]
  },
  {
   "cell_type": "markdown",
   "id": "12fa014b-8c21-4cea-b4d3-1fda45777c47",
   "metadata": {},
   "source": [
    "33. Replace multiple spaces in a string with a single space."
   ]
  },
  {
   "cell_type": "code",
   "execution_count": null,
   "id": "30660fe5-6620-4372-98ca-96b338ad62d2",
   "metadata": {},
   "outputs": [],
   "source": [
    "text=\"Hello   Are  You\"\n",
    "modified_string = text.replace(\"  \", \" \")\n",
    "while \"  \" in modified_string:\n",
    "    modified_string = modified_string.replace(\"  \", \" \")\n",
    "    \n",
    "    \n",
    "print(modified_string)"
   ]
  },
  {
   "cell_type": "markdown",
   "id": "20492c6e-6821-4593-a2dd-1acfd9f727da",
   "metadata": {},
   "source": [
    "34. Check if a string is a valid URL."
   ]
  },
  {
   "cell_type": "code",
   "execution_count": null,
   "id": "2f7b988e-5eb8-45a9-bede-eb06ec3c8e39",
   "metadata": {},
   "outputs": [],
   "source": [
    "import re\n",
    "url = \"http://www.google.com\"\n",
    "regex = r\"(?i)\\b((?:https?://|www\\d{0,3}[.]|[a-z0-9.\\-]+[.][a-z]{2,4}/)(?:[^\\s()<>]+|\\(([^\\s()<>]+|(\\([^\\s()<>]+\\)))*\\))+(?:\\(([^\\s()<>]+|(\\([^\\s()<>]+\\)))*\\)|[^\\s`!()\\[\\]{};:'\\\".,<>?«»“”‘’]))\"\n",
    "\n",
    "if re.match(regex, url):\n",
    "    print(\"match\")"
   ]
  },
  {
   "cell_type": "markdown",
   "id": "f28ada68-a4e5-4721-9ef4-91ff00e7b0e4",
   "metadata": {},
   "source": [
    "35. Extract the protocol (http or https) from a URL string."
   ]
  },
  {
   "cell_type": "code",
   "execution_count": null,
   "id": "aacfd8d2-87b9-4617-9449-b1923ee7ddc2",
   "metadata": {},
   "outputs": [],
   "source": [
    "url = \"http://www.google.com\"\n",
    "protocal = url.split(\":\")\n",
    "print(protocal[0])"
   ]
  },
  {
   "cell_type": "markdown",
   "id": "c7c15add-f27e-424d-b5cd-f44d17c2d424",
   "metadata": {},
   "source": [
    "36. Find the frequency of each character in a string."
   ]
  },
  {
   "cell_type": "code",
   "execution_count": null,
   "id": "a45b5a05-407d-4dea-9ff4-a39935c82272",
   "metadata": {},
   "outputs": [],
   "source": [
    "text = \"Hello How Are You\"\n",
    "text = text.lower()\n",
    "dist = {}\n",
    "\n",
    "for c in text:\n",
    "    if c in dist:\n",
    "        dist[c] = dist[c] + 1\n",
    "    else:\n",
    "        dist[c] = 1\n",
    "        \n",
    "print(dist)"
   ]
  },
  {
   "cell_type": "markdown",
   "id": "18858fb6-af16-4a6e-ae1c-da62511c228e",
   "metadata": {},
   "source": [
    "37. Remove all punctuation from a string."
   ]
  },
  {
   "cell_type": "code",
   "execution_count": null,
   "id": "825788b2-7089-48b8-9cc2-3b219c45e993",
   "metadata": {},
   "outputs": [],
   "source": [
    "import string\n",
    "text = \"hello world!!\"\n",
    "\n",
    "for punctuation in string.punctuation:\n",
    "    text = text.replace(punctuation, \"\")\n",
    "    \n",
    "print(text)"
   ]
  },
  {
   "cell_type": "markdown",
   "id": "62ea0e15-6323-459c-818a-1bc23c9e215a",
   "metadata": {},
   "source": [
    "38. Check if a string contains only digits."
   ]
  },
  {
   "cell_type": "code",
   "execution_count": null,
   "id": "832c77dc-2654-47ed-973f-e421625e0de4",
   "metadata": {},
   "outputs": [],
   "source": [
    "text = \"132323\"\n",
    "if text.isdigit():\n",
    "    print(\"Input is digit\")\n",
    "else:\n",
    "    print(\"Input is not digit\")"
   ]
  },
  {
   "cell_type": "markdown",
   "id": "cb145f95-328e-4dbc-8114-4dd2f76caa98",
   "metadata": {},
   "source": [
    "39. Check if a string contains only alphabets."
   ]
  },
  {
   "cell_type": "code",
   "execution_count": null,
   "id": "4d7d1c48-e51b-4a54-b717-a7e7e3a28012",
   "metadata": {},
   "outputs": [],
   "source": [
    "text = \"ajitkumar\"\n",
    "if text.isalpha():\n",
    "    print(\"Input is alphabet\")\n",
    "else:\n",
    "    print(\"Input is not alphabets\")"
   ]
  },
  {
   "cell_type": "markdown",
   "id": "f06f7c87-3bb7-440d-b594-47179f331b6f",
   "metadata": {},
   "source": [
    "40. Convert a string to a list of characters."
   ]
  },
  {
   "cell_type": "code",
   "execution_count": null,
   "id": "6b795536-8962-4b7b-90dd-469d6c69d94d",
   "metadata": {},
   "outputs": [],
   "source": [
    "text=\"hello\"\n",
    "list(text)"
   ]
  },
  {
   "cell_type": "markdown",
   "id": "0a91dc36-0d02-4ce0-b101-ede97c02f627",
   "metadata": {},
   "source": [
    "41. Check if two strings are anagrams."
   ]
  },
  {
   "cell_type": "code",
   "execution_count": null,
   "id": "69ebb8cd-b50b-45e6-8acd-789ebf727139",
   "metadata": {},
   "outputs": [],
   "source": [
    "# integral =  traingle\n",
    "\n",
    "string1 = \"integral\"\n",
    "string2 = \"traingle\"\n",
    "\n",
    "if sorted(string1) == sorted(string2):\n",
    "    print(\"two strings are anagrams\")\n",
    "else:\n",
    "    print(\"two strings are NOT anagrams\")"
   ]
  },
  {
   "cell_type": "markdown",
   "id": "cdd793a8-5fc7-4a8d-9d6b-46c636f519e5",
   "metadata": {},
   "source": [
    "42. Encode a string using a Caesar cipher."
   ]
  },
  {
   "cell_type": "code",
   "execution_count": null,
   "id": "e9ddd26f-7b16-4ba0-8262-14241fc75664",
   "metadata": {
    "tags": []
   },
   "outputs": [],
   "source": [
    "text = input(\"Enter text to encode: \").lower()\n",
    "shift = int(input(\"Enter shift key: \"))\n",
    "\n",
    "alphabet = \"abcdefghijklmnopqrstuvwxyz\"\n",
    "encoded_text = \"\"\n",
    "\n",
    "for t in text:\n",
    "    new_index = (alphabet.index(t) + shift)%26\n",
    "    encoded_text += alphabet[new_index]\n",
    "    \n",
    "print(encoded_text)"
   ]
  },
  {
   "cell_type": "markdown",
   "id": "ddd59fae-ba9b-4360-ad77-1114514ddc6b",
   "metadata": {},
   "source": [
    "43. Decode a Caesar cipher encoded string."
   ]
  },
  {
   "cell_type": "code",
   "execution_count": null,
   "id": "50a24f08-e76a-4025-9503-a6a661d7f15b",
   "metadata": {},
   "outputs": [],
   "source": [
    "text = input(\"Enter text to encode: \").lower()\n",
    "shift = int(input(\"Enter shift key: \"))\n",
    "\n",
    "alphabet = \"abcdefghijklmnopqrstuvwxyz\"\n",
    "decode_text = \"\"\n",
    "\n",
    "for t in text:\n",
    "    new_index = (alphabet.index(t) - shift)%26\n",
    "    decode_text += alphabet[new_index]\n",
    "    \n",
    "print(decode_text)"
   ]
  },
  {
   "cell_type": "markdown",
   "id": "4724dc95-ed3b-4ed6-80dc-b11e49d7e993",
   "metadata": {},
   "source": [
    "44. Find the most frequent word in a string."
   ]
  },
  {
   "cell_type": "code",
   "execution_count": null,
   "id": "54a9f301-a969-4a75-b519-515d12ae206d",
   "metadata": {},
   "outputs": [],
   "source": [
    "text = \"hello how are you doing what do you want\"\n",
    "words = text.lower().split()\n",
    "dist = {}\n",
    "for word in words:\n",
    "    if word in dist:\n",
    "        dist[word] += 1\n",
    "    else:\n",
    "        dist[word] = 1\n",
    "        \n",
    "most_common_word = max(dist, key=dist.get)\n",
    "\n",
    "print(most_common_word)\n"
   ]
  },
  {
   "cell_type": "markdown",
   "id": "314c5f36-2153-4e2b-a119-50f885e95e64",
   "metadata": {},
   "source": [
    "45. Find all unique words in a string."
   ]
  },
  {
   "cell_type": "code",
   "execution_count": null,
   "id": "d084aef5-d532-4f85-8e0a-34fe7645f40d",
   "metadata": {},
   "outputs": [],
   "source": [
    "text = \"hello how are you doing what do you want\"\n",
    "words = text.lower().split()\n",
    "dist = {}\n",
    "for word in words:\n",
    "    if word in dist:\n",
    "        dist[word] += 1\n",
    "    else:\n",
    "        dist[word] = 1\n",
    "        \n",
    "\n",
    "for key, value in dist.items():\n",
    "    if dist[key] == 1:\n",
    "        print(key)"
   ]
  },
  {
   "cell_type": "markdown",
   "id": "7828b783-c965-463a-a61c-bb4f87998f9c",
   "metadata": {},
   "source": [
    "46. Count the number of syllables in a string"
   ]
  },
  {
   "cell_type": "code",
   "execution_count": null,
   "id": "3a6b2f36",
   "metadata": {},
   "outputs": [],
   "source": [
    "string = \"Hello world\"\n",
    "words = string.lower().split()\n",
    "\n",
    "\n",
    "for word in words:\n",
    "    count = 0\n",
    "    for char in word:\n",
    "        if char in 'aeiou':\n",
    "            count += 1\n",
    "    else:\n",
    "        print(f\"{word} contains {count} syllables\")"
   ]
  },
  {
   "cell_type": "markdown",
   "id": "fe094796-1ba4-4f9c-9ee7-c5ba7a5ec055",
   "metadata": {},
   "source": [
    "47. Check if a string contains any special characters."
   ]
  },
  {
   "cell_type": "code",
   "execution_count": null,
   "id": "f32d37f5-b94a-4e84-9f0f-36ef7a4c204e",
   "metadata": {},
   "outputs": [],
   "source": [
    "import re\n",
    "string = \"hello how are you ?\"\n",
    "allowed = set(\"abcdefghijklmnopqrstuvwxyzABCDEFGHIJKLMNOPQRSTUVWXYZ0123456789 \") # Considering space as non-special character\n",
    "\n",
    "for char in string:\n",
    "    if char not in allowed:\n",
    "        print(\"Contains Special Character\")\n"
   ]
  },
  {
   "cell_type": "markdown",
   "id": "9bff75e2-3945-4be1-85d9-ae76f0813ef9",
   "metadata": {},
   "source": [
    "48. Remove the nth word from a string."
   ]
  },
  {
   "cell_type": "code",
   "execution_count": null,
   "id": "c22ba4f9-bb15-4dc9-930b-687ee2c65ff4",
   "metadata": {},
   "outputs": [],
   "source": [
    "string = \"hello how are you?\"\n",
    "n = 1\n",
    "words = string.split(\" \")\n",
    "new_string = \"\"\n",
    "\n",
    "for i in range(len(words)):\n",
    "    if i != 2:\n",
    "        new_string = new_string + \" \" + words[i]\n",
    "\n",
    "        \n",
    "new_string.lstrip()"
   ]
  },
  {
   "cell_type": "markdown",
   "id": "2d044c77-bdc8-45d8-b3ef-5372fafc48e0",
   "metadata": {},
   "source": [
    "49. Insert a word at the nth position in a string."
   ]
  },
  {
   "cell_type": "code",
   "execution_count": null,
   "id": "d47f58db-f84e-4069-9cc3-18710822fe37",
   "metadata": {},
   "outputs": [],
   "source": [
    "string = \"hello are you?\"\n",
    "position = 6\n",
    "add_word = \"how\"\n",
    "string = string[:position] + \" \" + add_word + \" \"+ string[position:]\n",
    "string"
   ]
  },
  {
   "cell_type": "markdown",
   "id": "d1b853ac-c2c7-4dc2-9826-0980ee46d75e",
   "metadata": {},
   "source": [
    "50. Convert a CSV string to a list of lists."
   ]
  },
  {
   "cell_type": "code",
   "execution_count": null,
   "id": "b14d5569-d672-40bd-b8e5-632b041c719d",
   "metadata": {},
   "outputs": [],
   "source": [
    "string = \"name,age,address,country\"\n",
    "ls_new = string.split(',')\n",
    "ls_new"
   ]
  },
  {
   "cell_type": "markdown",
   "id": "32bca457-a589-44ce-82bd-70891b83356b",
   "metadata": {
    "tags": []
   },
   "source": [
    "## List Based Practice Problem"
   ]
  },
  {
   "cell_type": "markdown",
   "id": "e2e28868-d549-497a-9837-f167c38102b0",
   "metadata": {},
   "source": [
    "1. Create a list with integers from 1 to 10."
   ]
  },
  {
   "cell_type": "code",
   "execution_count": null,
   "id": "6f563eab-bfa2-4fb1-82c6-d250b1d54be2",
   "metadata": {},
   "outputs": [],
   "source": [
    "ls = list(range(1,11))\n",
    "ls"
   ]
  },
  {
   "cell_type": "markdown",
   "id": "2d95a986-6055-4863-b55e-8a7069de2cb6",
   "metadata": {},
   "source": [
    "2. Find the length of a list without using the `len()` function."
   ]
  },
  {
   "cell_type": "code",
   "execution_count": null,
   "id": "8066bf9b-5015-4b3b-91fd-116c0654fdce",
   "metadata": {},
   "outputs": [],
   "source": [
    "ls = list(range(1,11))\n",
    "count = 0\n",
    "for l in ls:\n",
    "    count += 1\n",
    "    \n",
    "count"
   ]
  },
  {
   "cell_type": "markdown",
   "id": "b1f2f0b7-e3ac-43eb-86cb-83ea4bfc1fa4",
   "metadata": {},
   "source": [
    "3. Append an element to the end of a list."
   ]
  },
  {
   "cell_type": "code",
   "execution_count": null,
   "id": "f835741e-16ca-41d5-aae5-31fb1abe8064",
   "metadata": {},
   "outputs": [],
   "source": [
    "ls = list(range(1,11))\n",
    "ls.append(11)\n",
    "ls"
   ]
  },
  {
   "cell_type": "markdown",
   "id": "d7a9b85e-e69a-4ee0-a741-35e965d7594b",
   "metadata": {},
   "source": [
    "4. Insert an element at a specific index in a list."
   ]
  },
  {
   "cell_type": "code",
   "execution_count": null,
   "id": "b2668c2d-344d-4fca-906b-b71d628776ae",
   "metadata": {},
   "outputs": [],
   "source": [
    "ls = list(range(1,11))\n",
    "ls.insert(5, 100)\n",
    "ls"
   ]
  },
  {
   "cell_type": "markdown",
   "id": "620551de-7d14-440c-bbfd-8c6293192df5",
   "metadata": {},
   "source": [
    "5. Remove an element from a list by its value."
   ]
  },
  {
   "cell_type": "code",
   "execution_count": null,
   "id": "570c5bd3-d3c7-4d6d-b686-7735db6c6240",
   "metadata": {},
   "outputs": [],
   "source": [
    "ls = list(range(1,11))\n",
    "ls.remove(7)\n",
    "ls"
   ]
  },
  {
   "cell_type": "markdown",
   "id": "9ae1376d-983c-4382-9943-c2252c02cdc9",
   "metadata": {},
   "source": [
    "6. Remove an element from a list by its index."
   ]
  },
  {
   "cell_type": "code",
   "execution_count": null,
   "id": "923590fe-4f34-47d2-b321-9bde4ac361e0",
   "metadata": {},
   "outputs": [],
   "source": [
    "ls = list(range(1,11))\n",
    "ls.pop(4)\n",
    "ls"
   ]
  },
  {
   "cell_type": "markdown",
   "id": "22f695bf-4f18-43d9-8d4d-38f220b42d48",
   "metadata": {},
   "source": [
    "7. Check if an element exists in a list."
   ]
  },
  {
   "cell_type": "code",
   "execution_count": null,
   "id": "a78189b5-77f8-46e5-b4bd-294e4787aecc",
   "metadata": {},
   "outputs": [],
   "source": [
    "ls = list(range(1,11))\n",
    "element = 5\n",
    "if element in ls:\n",
    "    at = ls.index(element)\n",
    "    print(f\"Element exists at {at} index in the list\")"
   ]
  },
  {
   "cell_type": "markdown",
   "id": "e07e5706-960b-4bfc-b458-36242927aaf9",
   "metadata": {},
   "source": [
    "8. Find the index of the first occurrence of an element in a list."
   ]
  },
  {
   "cell_type": "code",
   "execution_count": null,
   "id": "081f3a57-bfd4-401f-9a3b-1a9fe6b1400b",
   "metadata": {},
   "outputs": [],
   "source": [
    "ls = [1, 2, 4, 5, 2, 3]\n",
    "element = 2\n",
    "if element in ls:\n",
    "    at = ls.index(element)\n",
    "    print(f\"Element exists at {at} index in the list\")"
   ]
  },
  {
   "cell_type": "markdown",
   "id": "0684d45f-955f-4651-8499-330094d928bf",
   "metadata": {},
   "source": [
    "9. Count the occurrences of an element in a list."
   ]
  },
  {
   "cell_type": "code",
   "execution_count": null,
   "id": "2669f693-153b-44ee-bda3-f749710dc52d",
   "metadata": {},
   "outputs": [],
   "source": [
    "ls = [1, 2, 4, 5, 2, 3, 3, 5, 7, 2]\n",
    "element = 2\n",
    "ls.count(element)"
   ]
  },
  {
   "cell_type": "markdown",
   "id": "77f7c44b-0c54-4c58-b973-62ecfa34c39c",
   "metadata": {},
   "source": [
    "10. Reverse the order of elements in a list"
   ]
  },
  {
   "cell_type": "code",
   "execution_count": null,
   "id": "ad0d3485-3206-4e10-bc85-fb7726bf30eb",
   "metadata": {},
   "outputs": [],
   "source": [
    "ls = [1, 2, 4, 5, 2, 3, 3, 5, 7, 2]\n",
    "ls.reverse()\n",
    "ls"
   ]
  },
  {
   "cell_type": "markdown",
   "id": "85c8dbff-34bf-4b8a-bcc3-aead540e7f5f",
   "metadata": {},
   "source": [
    "11. Sort a list in ascending order."
   ]
  },
  {
   "cell_type": "code",
   "execution_count": null,
   "id": "ddb0a1d9-c931-4cec-a0cd-676b894ce719",
   "metadata": {},
   "outputs": [],
   "source": [
    "ls = [1, 2, 4, 5, 2, 3, 3, 5, 7, 2]\n",
    "ls.sort()\n",
    "ls"
   ]
  },
  {
   "cell_type": "markdown",
   "id": "dc431f23-9ef2-4552-b511-13bbb1ee68b6",
   "metadata": {},
   "source": [
    "12. Sort a list in descending order."
   ]
  },
  {
   "cell_type": "code",
   "execution_count": null,
   "id": "24b912f2-9616-4b73-b707-65cdd527d26d",
   "metadata": {},
   "outputs": [],
   "source": [
    "ls = [1, 2, 4, 5, 2, 3, 3, 5, 7, 2]\n",
    "ls.sort(reverse=True)\n",
    "ls"
   ]
  },
  {
   "cell_type": "markdown",
   "id": "b67bf6e5-5ae4-4912-acfc-92690f7b2fa7",
   "metadata": {},
   "source": [
    "13. Create a list of even numbers from 1 to 20."
   ]
  },
  {
   "cell_type": "code",
   "execution_count": null,
   "id": "20e7d89f-b75e-4297-8d4e-d4463c2bbc70",
   "metadata": {},
   "outputs": [],
   "source": [
    "ls = list(range(1,21))\n",
    "ls_even = [l for l in ls if l%2 ==0 ]\n",
    "ls_even"
   ]
  },
  {
   "cell_type": "markdown",
   "id": "51645f68-3801-41d6-87dd-9f5eebf4e714",
   "metadata": {},
   "source": [
    "14. Create a list of odd numbers from 1 to 20."
   ]
  },
  {
   "cell_type": "code",
   "execution_count": null,
   "id": "6084ca51-bceb-4e08-b5d1-c6cd597a5fb5",
   "metadata": {},
   "outputs": [],
   "source": [
    "ls = list(range(1,21))\n",
    "ls_odd = [l for l in ls if l%2 !=0 ]\n",
    "ls_odd"
   ]
  },
  {
   "cell_type": "markdown",
   "id": "d1face9a-9aa5-4161-9d3f-fa4fa55ab208",
   "metadata": {},
   "source": [
    "15. Find the sum of all elements in a list."
   ]
  },
  {
   "cell_type": "code",
   "execution_count": null,
   "id": "9bb72b43-138f-4a39-acf9-51c3caaf76d8",
   "metadata": {},
   "outputs": [],
   "source": [
    "ls = list(range(1,5))\n",
    "total = sum(ls)\n",
    "total"
   ]
  },
  {
   "cell_type": "markdown",
   "id": "90ed108a-7aad-4869-b60c-da35b42e5c36",
   "metadata": {},
   "source": [
    "16. Find the maximum value in a list."
   ]
  },
  {
   "cell_type": "code",
   "execution_count": null,
   "id": "8bc7e294-e413-49f7-b1b7-5d0e8bf3f928",
   "metadata": {},
   "outputs": [],
   "source": [
    "ls = list(range(1,5))\n",
    "max_value = max(ls)\n",
    "max_value"
   ]
  },
  {
   "cell_type": "markdown",
   "id": "a2f099e8-3853-49e9-8732-b607f615da45",
   "metadata": {},
   "source": [
    "17. Find the minimum value in a list."
   ]
  },
  {
   "cell_type": "code",
   "execution_count": null,
   "id": "54105cec-5a02-4f3c-b1a1-5f1686510c6e",
   "metadata": {},
   "outputs": [],
   "source": [
    "ls = list(range(1,5))\n",
    "min_value = min(ls)\n",
    "min_value"
   ]
  },
  {
   "cell_type": "markdown",
   "id": "d666e036-8bfa-4216-8ff8-14d41d5f6160",
   "metadata": {},
   "source": [
    "18. Create a list of squares of numbers from 1 to 10."
   ]
  },
  {
   "cell_type": "code",
   "execution_count": null,
   "id": "6233899a-15b8-4694-83e7-b10ede2dca44",
   "metadata": {},
   "outputs": [],
   "source": [
    "squares = [x**2 for x in range(1,5)]\n",
    "squares"
   ]
  },
  {
   "cell_type": "markdown",
   "id": "b06bce2a-b8b7-4701-95a4-3f93535c0fee",
   "metadata": {},
   "source": [
    "19. Create a list of random numbers."
   ]
  },
  {
   "cell_type": "code",
   "execution_count": null,
   "id": "cdde964b-b2f5-45ac-abfd-9e753062f013",
   "metadata": {},
   "outputs": [],
   "source": [
    "import random\n",
    "ran = [random.randint(1, 100) for i in range(1,5)]\n",
    "ran"
   ]
  },
  {
   "cell_type": "markdown",
   "id": "8ab70787-d300-4bb4-ac21-b6709e1ee100",
   "metadata": {},
   "source": [
    "20. Remove duplicates from a list."
   ]
  },
  {
   "cell_type": "code",
   "execution_count": null,
   "id": "71b7402f-9f32-42ad-83c8-c244a20f9979",
   "metadata": {},
   "outputs": [],
   "source": [
    "ls = [2, 5, 6, 2, 6]\n",
    "ls = list(set(ls))\n",
    "ls"
   ]
  },
  {
   "cell_type": "markdown",
   "id": "c531bf29-518b-4fef-9df6-aef3ed58e7bb",
   "metadata": {},
   "source": [
    "21. Find the common elements between two lists."
   ]
  },
  {
   "cell_type": "code",
   "execution_count": null,
   "id": "82fe5952-667f-49df-be15-cdd2fcd59cac",
   "metadata": {},
   "outputs": [],
   "source": [
    "ls1 = [1, 3, 5]\n",
    "ls2 = [1, 2, 3, 4, 5]\n",
    "ls = list(set(ls1) & set(ls2))\n",
    "ls"
   ]
  },
  {
   "cell_type": "markdown",
   "id": "7a6b5ed3-9abe-47cf-acaa-3b3da194f7f6",
   "metadata": {},
   "source": [
    "22. Find the difference between two lists."
   ]
  },
  {
   "cell_type": "code",
   "execution_count": null,
   "id": "c5fbe00a-6481-44ce-868f-cd492a712491",
   "metadata": {},
   "outputs": [],
   "source": [
    "ls1 = [1, 3, 5]\n",
    "ls2 = [1, 2, 3, 4, 5]\n",
    "ls = list(set(ls2) - set(ls1))\n",
    "ls"
   ]
  },
  {
   "cell_type": "markdown",
   "id": "ff25d5f3-06f1-4e5d-af7a-584db2da1b2f",
   "metadata": {},
   "source": [
    "23. Merge two lists."
   ]
  },
  {
   "cell_type": "code",
   "execution_count": null,
   "id": "0edfdb64-0c99-4831-925b-4b7d4799407b",
   "metadata": {},
   "outputs": [],
   "source": [
    "ls1 = [1, 3, 5]\n",
    "ls2 = [1, 2, 3, 4, 5]\n",
    "ls = ls1 + ls2\n",
    "ls"
   ]
  },
  {
   "cell_type": "markdown",
   "id": "23e8e620-6b49-4e52-a235-8d81ce14d912",
   "metadata": {},
   "source": [
    "24. Multiply all elements in a list by 2."
   ]
  },
  {
   "cell_type": "code",
   "execution_count": null,
   "id": "7c4784e1-1336-4dca-bef2-29ddd421b59a",
   "metadata": {},
   "outputs": [],
   "source": [
    "ls1 = [1, 3, 5]\n",
    "ls1 = [l*2 for l in ls1]\n",
    "ls1"
   ]
  },
  {
   "cell_type": "markdown",
   "id": "624f1894-ba3c-4ee5-b443-79487aeac6ea",
   "metadata": {},
   "source": [
    "25. Filter out all even numbers from a list."
   ]
  },
  {
   "cell_type": "code",
   "execution_count": null,
   "id": "b9044537-f47b-4912-8fd7-99e12839f829",
   "metadata": {},
   "outputs": [],
   "source": [
    "ls1 = [1, 3, 5, 4, 8]\n",
    "ls = [l for l in ls1 if l % 2 != 0]\n",
    "ls"
   ]
  },
  {
   "cell_type": "markdown",
   "id": "d2a54c5d-60a4-47c7-825e-6a6349ac3a27",
   "metadata": {},
   "source": [
    "26. Convert a list of strings to a list of integers."
   ]
  },
  {
   "cell_type": "code",
   "execution_count": null,
   "id": "8326e28b-f34b-4707-b281-d96068e71625",
   "metadata": {},
   "outputs": [],
   "source": [
    "ls = [\"1\", \"2\", \"3\"]\n",
    "ls_int = [int(l) for l in ls]\n",
    "ls_int"
   ]
  },
  {
   "cell_type": "markdown",
   "id": "22413984-e7a5-4cdf-8ba9-3a72aed7d1fc",
   "metadata": {},
   "source": [
    "27. Convert a list of integers to a list of strings."
   ]
  },
  {
   "cell_type": "code",
   "execution_count": null,
   "id": "ac70ddd7-db21-4614-8186-5a1ee5a46cfd",
   "metadata": {},
   "outputs": [],
   "source": [
    "ls = [1, 2, 3]\n",
    "ls_str = [str(l) for l in ls]\n",
    "ls_str"
   ]
  },
  {
   "cell_type": "markdown",
   "id": "e7522f0e-2d61-4129-8fdf-de71e4b7751c",
   "metadata": {},
   "source": [
    "28. Flatten a nested list."
   ]
  },
  {
   "cell_type": "code",
   "execution_count": null,
   "id": "059a1ce2-b81e-4374-b2e6-4fdbc9c0c94f",
   "metadata": {},
   "outputs": [],
   "source": [
    "ls = [[1, 2, 3],[4, 5, 6]]\n",
    "ls = [nl for l in ls for nl in l]\n",
    "ls"
   ]
  },
  {
   "cell_type": "markdown",
   "id": "b888fb5e-f219-4dc0-8c5e-82c8e67ce865",
   "metadata": {},
   "source": [
    "29. Create a list of the first 10 Fibonacci numbers."
   ]
  },
  {
   "cell_type": "code",
   "execution_count": null,
   "id": "d8dc67ab-dd1c-41ef-92b9-1b2a20de22ea",
   "metadata": {},
   "outputs": [],
   "source": [
    "fin = [0, 1]\n",
    "for l in range(8):\n",
    "     fin.append(fin[-1] + fin[-2])\n",
    "        \n",
    "fin"
   ]
  },
  {
   "cell_type": "markdown",
   "id": "478d0398-4a8c-4292-8b13-c0d9102c264b",
   "metadata": {},
   "source": [
    "30. Check if a list is sorted."
   ]
  },
  {
   "cell_type": "code",
   "execution_count": null,
   "id": "cd8d43bd-7e46-4678-b84c-319e89dc7ec5",
   "metadata": {},
   "outputs": [],
   "source": [
    "ls = [1, 2, 4, 4]\n",
    "sorted = all(ls[l] <= ls[l+1] for l in range(len(ls)-1))\n",
    "if sorted:\n",
    "    print(\"Sorted\")\n",
    "else:\n",
    "    print(\"Unsorted\")"
   ]
  },
  {
   "cell_type": "markdown",
   "id": "de6e2c1c-8b4d-4816-8dc4-e9d1d98ad6c8",
   "metadata": {},
   "source": [
    "31. Rotate a list to the left by `n` positions."
   ]
  },
  {
   "cell_type": "code",
   "execution_count": null,
   "id": "cb927139-fd67-41d9-adb0-73a2c30cc3f5",
   "metadata": {},
   "outputs": [],
   "source": [
    "ls = [1, 2, 3, 4, 5, 6]\n",
    "shiftby = 2\n",
    "rotate_left = ls[shiftby:] + ls[:shiftby]\n",
    "    \n",
    "rotate_left"
   ]
  },
  {
   "cell_type": "markdown",
   "id": "8e8cc2f8-f1cf-49e8-8ce8-7a542530538c",
   "metadata": {},
   "source": [
    "32. Rotate a list to the right by `n` positions."
   ]
  },
  {
   "cell_type": "code",
   "execution_count": null,
   "id": "0a440ee9-ee36-4294-b156-e89e3a6a7d5a",
   "metadata": {},
   "outputs": [],
   "source": [
    "ls = [1, 2, 3, 4, 5, 6]\n",
    "shiftby = 2\n",
    "rotate_right = ls[-shiftby:] + ls[:-shiftby]\n",
    "    \n",
    "rotate_right"
   ]
  },
  {
   "cell_type": "markdown",
   "id": "89741ef3-6795-405b-9b3d-a3fb35efeec2",
   "metadata": {},
   "source": [
    "33. Create a list of prime numbers up to 50."
   ]
  },
  {
   "cell_type": "code",
   "execution_count": null,
   "id": "0a6c139b",
   "metadata": {},
   "outputs": [],
   "source": [
    "prime = []\n",
    "\n",
    "for n in range(51):\n",
    "    if n <= 1:\n",
    "        isPrime = False\n",
    "    elif n <= 3:\n",
    "        isPrime = True\n",
    "    elif n % 2 == 0 or n % 3 == 0:\n",
    "        isPrime = False\n",
    "    else:\n",
    "        i = 5\n",
    "        # 5 * 5 <= 5\n",
    "        while i * i <= n:\n",
    "            #5 % 5 == 0 or 5 % (5 + 2)\n",
    "            # 0 or 5\n",
    "            if n % i == 0 or n % (i + 2) == 0:\n",
    "                isPrime = False\n",
    "                break\n",
    "            i += 6\n",
    "        else:\n",
    "            isPrime = True\n",
    "\n",
    "\n",
    "    if isPrime:\n",
    "        prime.append(n)\n",
    "\n",
    "prime\n"
   ]
  },
  {
   "cell_type": "markdown",
   "id": "a0b77668-0574-40d3-97f8-78f10a5af96d",
   "metadata": {},
   "source": [
    "34. Split a list into chunks of size `n`."
   ]
  },
  {
   "cell_type": "code",
   "execution_count": null,
   "id": "8ce88a5f-84a2-4788-89bc-39d17c8b9eaa",
   "metadata": {},
   "outputs": [],
   "source": [
    "ls = [1, 2, 3, 4, 5, 6, 7]\n",
    "c  = 2\n",
    "ls_chunk = []\n",
    "for l in range(0, len(ls), c):\n",
    "    ls_chunk.append(ls[l:l+c])\n",
    "    \n",
    "ls_chunk"
   ]
  },
  {
   "cell_type": "markdown",
   "id": "c4f57196-032e-4453-a9b3-5f5dae9f3cc9",
   "metadata": {},
   "source": [
    "35. Find the second largest number in a list."
   ]
  },
  {
   "cell_type": "code",
   "execution_count": null,
   "id": "9969733f-b3ac-4a40-9098-df800411b039",
   "metadata": {},
   "outputs": [],
   "source": [
    "ls = [1, 2, 39, 44, 5, 8, 7]\n",
    "ls.sort()\n",
    "ls[-2]"
   ]
  },
  {
   "cell_type": "markdown",
   "id": "1e4a8cfd-c6db-4640-be66-aabb8f97ec91",
   "metadata": {},
   "source": [
    "36. Replace every element in a list with its square."
   ]
  },
  {
   "cell_type": "code",
   "execution_count": null,
   "id": "e9032612-5e4e-49b4-853a-160989660656",
   "metadata": {},
   "outputs": [],
   "source": [
    "import math\n",
    "ls = [1, 2, 3, 4, 5]\n",
    "list(map(math.sqrt, ls))"
   ]
  },
  {
   "cell_type": "markdown",
   "id": "71af87b6-a352-4e5d-a9bc-3e5721f0e9c9",
   "metadata": {},
   "source": [
    "37. Convert a list to a dictionary where list elements become keys and their indices become values."
   ]
  },
  {
   "cell_type": "code",
   "execution_count": null,
   "id": "5f43d42d-72fd-4fb3-81b6-5243b76f6026",
   "metadata": {},
   "outputs": [],
   "source": [
    "ls = [14, 2, 34, 49, 5]\n",
    "dist = {}\n",
    "count = 0\n",
    "for l in ls:\n",
    "    dist[count] = l\n",
    "    count += 1\n",
    "    \n",
    "dist"
   ]
  },
  {
   "cell_type": "markdown",
   "id": "d6672bc1-9263-47e4-a22e-5ddb90e636d2",
   "metadata": {},
   "source": [
    "38. Shuffle the elements of a list randomly."
   ]
  },
  {
   "cell_type": "code",
   "execution_count": null,
   "id": "78cc1030-a6c9-4bad-bb1f-7e412ab60472",
   "metadata": {},
   "outputs": [],
   "source": [
    "import random\n",
    "ls = [14, 2, 34, 49, 5]\n",
    "random.shuffle(ls)\n",
    "ls"
   ]
  },
  {
   "cell_type": "markdown",
   "id": "6d8180c0-088e-4fe0-ab3b-ccd83d944a1f",
   "metadata": {},
   "source": [
    "39. Create a list of the first 10 factorial numbers"
   ]
  },
  {
   "cell_type": "code",
   "execution_count": null,
   "id": "42f77ace-52bb-4e40-af58-0e5ec8477be0",
   "metadata": {},
   "outputs": [],
   "source": [
    "ls = []\n",
    "\n",
    "for l in range(0, 10):\n",
    "    if l == 0:\n",
    "        ls.append(1)\n",
    "    else:\n",
    "        val = ls[l-1] * l\n",
    "        ls.append(val)\n",
    "        \n",
    "ls"
   ]
  },
  {
   "cell_type": "markdown",
   "id": "32d65150-c60a-4d5a-b3c4-5d735bd952e6",
   "metadata": {},
   "source": [
    "40. Check if two lists have at least one element in common."
   ]
  },
  {
   "cell_type": "code",
   "execution_count": null,
   "id": "edc04f46-51b8-4eae-bf98-d48dbebd4752",
   "metadata": {},
   "outputs": [],
   "source": [
    "ls1 = [14, 2, 34, 49, 5]\n",
    "ls2 = [56, 12, 5, 6]\n",
    "count = 0\n",
    "\n",
    "for l in ls1:\n",
    "    if l in ls2:\n",
    "        count = 1\n",
    "\n",
    "        \n",
    "if count > 0:\n",
    "    print(\"Two list have common elements\")\n",
    "else:\n",
    "    print(\"Two lists doesn't have common elements\")"
   ]
  },
  {
   "cell_type": "markdown",
   "id": "a0011fad-6649-48a2-a12f-67d9e053f089",
   "metadata": {},
   "source": [
    "41. Remove all elements from a list."
   ]
  },
  {
   "cell_type": "code",
   "execution_count": null,
   "id": "fcc82df0-1187-403d-82e6-3965f60396a1",
   "metadata": {},
   "outputs": [],
   "source": [
    "ls = [14, 2, 34, 49, 5]\n",
    "ls.clear()\n",
    "ls"
   ]
  },
  {
   "cell_type": "markdown",
   "id": "fee840ab-219b-49e4-959a-b28be1ca3125",
   "metadata": {},
   "source": [
    "42. Replace negative numbers in a list with 0."
   ]
  },
  {
   "cell_type": "code",
   "execution_count": null,
   "id": "2d7277e6-01f1-4075-93fb-44608b0baf0a",
   "metadata": {},
   "outputs": [],
   "source": [
    "ls = [14, 2, -34, 49, -5]\n",
    "\n",
    "for l in range(len(ls)):\n",
    "    if ls[l] < 0:\n",
    "        ls[l] = 0\n",
    "        \n",
    "ls"
   ]
  },
  {
   "cell_type": "markdown",
   "id": "c8e19c37-6166-442c-a1d9-f02376f9dda1",
   "metadata": {},
   "source": [
    "43. Convert a string into a list of words."
   ]
  },
  {
   "cell_type": "code",
   "execution_count": null,
   "id": "961bbfc7-153f-4bae-8a13-585385831ca4",
   "metadata": {},
   "outputs": [],
   "source": [
    "string = \"hello how are you doing\"\n",
    "string.split(\" \")"
   ]
  },
  {
   "cell_type": "markdown",
   "id": "b3933841-dd9e-422d-8143-6f0b0dab0805",
   "metadata": {},
   "source": [
    "44. Convert a list of words into a string."
   ]
  },
  {
   "cell_type": "code",
   "execution_count": null,
   "id": "433370c1-90ef-49c2-9622-108090345332",
   "metadata": {},
   "outputs": [],
   "source": [
    "ls = ['hello', 'how', 'are', 'you', 'doing']\n",
    "' '.join(ls)"
   ]
  },
  {
   "cell_type": "markdown",
   "id": "63596749-9355-48aa-866a-abb90d716c23",
   "metadata": {},
   "source": [
    "45. Create a list of the first `n` powers of 2."
   ]
  },
  {
   "cell_type": "code",
   "execution_count": null,
   "id": "44b39b91-57be-4a3a-b926-f560eb69273f",
   "metadata": {},
   "outputs": [],
   "source": [
    "ls = []\n",
    "for l in range(1,10):\n",
    "    ls.append(l*2)\n",
    "    \n",
    "ls"
   ]
  },
  {
   "cell_type": "markdown",
   "id": "a7c6dc7e-2704-489d-b249-d5b470933ba5",
   "metadata": {},
   "source": [
    "46. Find the longest string in a list of strings."
   ]
  },
  {
   "cell_type": "code",
   "execution_count": null,
   "id": "4a7f71ed-5e1d-423e-a7cf-a16ac85ff6ce",
   "metadata": {},
   "outputs": [],
   "source": [
    "text = \"hello how are you doing\"\n",
    "words = text.split(' ')\n",
    "max(words, key=len)"
   ]
  },
  {
   "cell_type": "markdown",
   "id": "a4d92a40-4b6a-4719-b56f-6164feb7dea6",
   "metadata": {},
   "source": [
    "47. Find the shortest string in a list of strings."
   ]
  },
  {
   "cell_type": "code",
   "execution_count": null,
   "id": "c376fc8d-1559-4595-b192-34a7d409c37a",
   "metadata": {},
   "outputs": [],
   "source": [
    "text = \"hello how are you doing\"\n",
    "words = text.split(' ')\n",
    "min(words, key=len)"
   ]
  },
  {
   "cell_type": "markdown",
   "id": "1c694361-c8b9-4494-b765-82b8c4c659bb",
   "metadata": {},
   "source": [
    "48. Create a list of the first `n` triangular numbers."
   ]
  },
  {
   "cell_type": "code",
   "execution_count": null,
   "id": "fe748b9e-4e3d-4617-96db-0d391ca3ce4d",
   "metadata": {},
   "outputs": [],
   "source": [
    "# T(n) = (n * (n + 1)) / 2\n",
    "[(i*(i +1))//2 for i in range(1,4)]"
   ]
  },
  {
   "cell_type": "markdown",
   "id": "e027b0ac-101e-49b5-8de1-07b86e8cdc93",
   "metadata": {},
   "source": [
    "49. Check if a list contains another list as a subsequence."
   ]
  },
  {
   "cell_type": "code",
   "execution_count": null,
   "id": "c08c44b9",
   "metadata": {},
   "outputs": [],
   "source": [
    "main_list = [1, 2, 3, 4, 5, 6]\n",
    "sub_list = [2, 3, 6]\n",
    "\n",
    "sub_idx = 0\n",
    "\n",
    "for ml in range(len(main_list)):\n",
    "    if sub_list[sub_idx] == main_list[ml]:\n",
    "        sub_idx += 1\n",
    "\n",
    "if len(sub_list) == sub_idx:\n",
    "    print(\"sub_list is a subsequence of main_list.\")\n",
    "else:\n",
    "    print(\"sub_list is not a subsequence of main_list.\")"
   ]
  },
  {
   "cell_type": "markdown",
   "id": "9b3d32cd-bf50-4501-8ec8-40f537f1f6aa",
   "metadata": {},
   "source": [
    "50. Swap two elements in a list by their indices."
   ]
  },
  {
   "cell_type": "code",
   "execution_count": null,
   "id": "86ce2f6e-bddd-40a5-9538-53523240da4c",
   "metadata": {},
   "outputs": [],
   "source": [
    "ls = ['hello', 'how', 'are', 'you', 'doing']\n",
    "ls[2], ls[3] = ls[3],ls[2]\n",
    "ls"
   ]
  },
  {
   "cell_type": "markdown",
   "id": "ab6629b5-7006-4e4d-be39-d03b21110827",
   "metadata": {
    "tags": []
   },
   "source": [
    "## Tuple Based Practice Problem"
   ]
  },
  {
   "cell_type": "markdown",
   "id": "0d38b96c-9a6b-42f3-adba-34a061862c6d",
   "metadata": {},
   "source": [
    "1. Create a tuple with integers from 1 to 5."
   ]
  },
  {
   "cell_type": "code",
   "execution_count": null,
   "id": "97eff733-c59f-4db5-b189-1c486ff3ae90",
   "metadata": {},
   "outputs": [],
   "source": [
    "t = tuple(range(1,6))\n",
    "t"
   ]
  },
  {
   "cell_type": "markdown",
   "id": "cd9779ac-fc9b-4130-9fdf-c33a261fabe9",
   "metadata": {},
   "source": [
    "2. Access the third element of a tuple."
   ]
  },
  {
   "cell_type": "code",
   "execution_count": null,
   "id": "a7b425d9",
   "metadata": {},
   "outputs": [],
   "source": [
    "t = tuple(range(1,6))\n",
    "t[2]"
   ]
  },
  {
   "cell_type": "markdown",
   "id": "0be68db9-e3e8-46d1-a2aa-622e669820d7",
   "metadata": {},
   "source": [
    "3. Find the length of a tuple without using the `len()` function."
   ]
  },
  {
   "cell_type": "code",
   "execution_count": null,
   "id": "208e97a6",
   "metadata": {},
   "outputs": [],
   "source": [
    "tup = tuple(range(1,6))\n",
    "count = 0\n",
    "for t in tup:\n",
    "    count += 1\n",
    "\n",
    "print(f\"Print length of tuple is {count}\")"
   ]
  },
  {
   "cell_type": "markdown",
   "id": "1a26fc83-9710-44d7-8405-c4db873b3a57",
   "metadata": {},
   "source": [
    "4. Count the occurrences of an element in a tuple."
   ]
  },
  {
   "cell_type": "code",
   "execution_count": null,
   "id": "4cfdf52b",
   "metadata": {},
   "outputs": [],
   "source": [
    "t = (2, 5, 5, 6)\n",
    "t.count(5)"
   ]
  },
  {
   "cell_type": "markdown",
   "id": "492a1530-3ee7-4ef6-8660-2ec5ee636680",
   "metadata": {},
   "source": [
    "5. Find the index of the first occurrence of an element in a tuple."
   ]
  },
  {
   "cell_type": "code",
   "execution_count": null,
   "id": "c5fed820",
   "metadata": {},
   "outputs": [],
   "source": [
    "t = (2, 1, 5, 5)\n",
    "t.index(5)"
   ]
  },
  {
   "cell_type": "markdown",
   "id": "ca4a2811-a67a-45e3-a39c-2bfa559c8ac4",
   "metadata": {},
   "source": [
    "6. Check if an element exists in a tuple."
   ]
  },
  {
   "cell_type": "code",
   "execution_count": null,
   "id": "1d696487",
   "metadata": {},
   "outputs": [],
   "source": [
    "t = (2, 1, 7, 5)\n",
    "element = 10\n",
    "if element in t:\n",
    "    print(\"exists\")\n",
    "else:\n",
    "    print(\"not exits\")"
   ]
  },
  {
   "cell_type": "markdown",
   "id": "67dab689-b177-4014-9178-76c4f77c9fc5",
   "metadata": {},
   "source": [
    "7. Convert a tuple to a list."
   ]
  },
  {
   "cell_type": "code",
   "execution_count": null,
   "id": "9e887321",
   "metadata": {},
   "outputs": [],
   "source": [
    "t = (2, 1, 7, 5)\n",
    "list(t)"
   ]
  },
  {
   "cell_type": "markdown",
   "id": "82d54a45-2366-4fde-be6f-65c012e0a20c",
   "metadata": {},
   "source": [
    "8. Convert a list to a tuple."
   ]
  },
  {
   "cell_type": "code",
   "execution_count": null,
   "id": "c9e108b5",
   "metadata": {},
   "outputs": [],
   "source": [
    "ls = [2, 1, 7, 5]\n",
    "tuple(ls)"
   ]
  },
  {
   "cell_type": "markdown",
   "id": "aef15094-5cfe-4724-8d46-080314851c6d",
   "metadata": {},
   "source": [
    "9. Unpack the elements of a tuple into variables."
   ]
  },
  {
   "cell_type": "code",
   "execution_count": null,
   "id": "fb992266",
   "metadata": {},
   "outputs": [],
   "source": [
    "t = (2, 1, 7, 5)\n",
    "t1, t2, t3, t4 = t\n",
    "\n",
    "print(t1, t2, t3, t4)"
   ]
  },
  {
   "cell_type": "markdown",
   "id": "df57cbb9-0181-4609-93b2-953b5b30e3ee",
   "metadata": {},
   "source": [
    "10. Create a tuple of even numbers from 1 to 10."
   ]
  },
  {
   "cell_type": "code",
   "execution_count": null,
   "id": "fa13ac0a",
   "metadata": {},
   "outputs": [],
   "source": [
    "tuple(i for i in range(1,11) if i%2 == 0 )"
   ]
  },
  {
   "cell_type": "markdown",
   "id": "38a74c1d-21ad-44f9-ad72-014013bb9b65",
   "metadata": {},
   "source": [
    "11. Create a tuple of odd numbers from 1 to 10."
   ]
  },
  {
   "cell_type": "code",
   "execution_count": null,
   "id": "d873d40d",
   "metadata": {},
   "outputs": [],
   "source": [
    "tuple(i for i in range(1,11) if i%2 != 0 )"
   ]
  },
  {
   "cell_type": "markdown",
   "id": "f176dac9-a1ef-44d0-b2f8-a6f4b0097a8b",
   "metadata": {},
   "source": [
    "12. Concatenate two tuples."
   ]
  },
  {
   "cell_type": "code",
   "execution_count": null,
   "id": "c208b504",
   "metadata": {},
   "outputs": [],
   "source": [
    "t1 = (2, 4, 6, 8, 10)\n",
    "t2 = (1, 3, 5, 7, 9)\n",
    "t = t1 + t2\n",
    "t"
   ]
  },
  {
   "cell_type": "markdown",
   "id": "f31b688b-db6b-4eb4-8d12-ee896e978d2f",
   "metadata": {},
   "source": [
    "13. Repeat a tuple three times."
   ]
  },
  {
   "cell_type": "code",
   "execution_count": null,
   "id": "5afdc9d3",
   "metadata": {},
   "outputs": [],
   "source": [
    "t = (2, 4, 6, 8, 10)\n",
    "t * 3"
   ]
  },
  {
   "cell_type": "markdown",
   "id": "4247e7bc-ed67-410b-a2bd-9ed88b7d0cc2",
   "metadata": {},
   "source": [
    "14. Check if a tuple is empty."
   ]
  },
  {
   "cell_type": "code",
   "execution_count": null,
   "id": "4ffb7a24",
   "metadata": {},
   "outputs": [],
   "source": [
    "t = tuple()\n",
    "if not t:\n",
    "    print(\"Tuple is empty\")\n",
    "else:\n",
    "    print(\"Tuple is not empty\")"
   ]
  },
  {
   "cell_type": "markdown",
   "id": "cee9e65d-0c38-46cb-ba7c-b045e22d4c9e",
   "metadata": {},
   "source": [
    "15. Create a nested tuple."
   ]
  },
  {
   "cell_type": "code",
   "execution_count": null,
   "id": "17f3d47e",
   "metadata": {},
   "outputs": [],
   "source": [
    "t = (2, 4, 6, 8, 10, (2,5))\n",
    "t"
   ]
  },
  {
   "cell_type": "markdown",
   "id": "c9fb2c73",
   "metadata": {},
   "source": [
    "16. Access the first element of a nested tuple."
   ]
  },
  {
   "cell_type": "code",
   "execution_count": null,
   "id": "22a11bb5",
   "metadata": {},
   "outputs": [],
   "source": [
    "t = (2, 4, 6, 8, 10, (2,5))\n",
    "t[5][0]"
   ]
  },
  {
   "cell_type": "markdown",
   "id": "0ffe1e41",
   "metadata": {},
   "source": [
    "17. Create a tuple with a single element."
   ]
  },
  {
   "cell_type": "code",
   "execution_count": null,
   "id": "ef46b196",
   "metadata": {},
   "outputs": [],
   "source": [
    "t = (232,)\n",
    "t"
   ]
  },
  {
   "cell_type": "markdown",
   "id": "393f7bd9",
   "metadata": {},
   "source": [
    "18. Compare two tuples."
   ]
  },
  {
   "cell_type": "code",
   "execution_count": null,
   "id": "e59f4688",
   "metadata": {},
   "outputs": [],
   "source": [
    "t1 = (2, 4, 6, 8, 10)\n",
    "t2 = (2, 4, 6, 8, 10)\n",
    "if t1 == t2:\n",
    "    print(\"equal\")\n",
    "else:\n",
    "    print(\"not equal\")"
   ]
  },
  {
   "cell_type": "markdown",
   "id": "79cc85ea",
   "metadata": {},
   "source": [
    "19. Delete a tuple."
   ]
  },
  {
   "cell_type": "code",
   "execution_count": null,
   "id": "461c6652",
   "metadata": {},
   "outputs": [],
   "source": [
    "t = (2, 4, 6, 8, 10)\n",
    "del(t)"
   ]
  },
  {
   "cell_type": "markdown",
   "id": "643cbf38",
   "metadata": {},
   "source": [
    "20. Slice a tuple"
   ]
  },
  {
   "cell_type": "code",
   "execution_count": null,
   "id": "cb283805",
   "metadata": {},
   "outputs": [],
   "source": [
    "t = (2, 4, 6, 8, 10)\n",
    "t[2:5]"
   ]
  },
  {
   "cell_type": "markdown",
   "id": "50c0450d",
   "metadata": {},
   "source": [
    "21. Find the maximum value in a tuple."
   ]
  },
  {
   "cell_type": "code",
   "execution_count": null,
   "id": "f93451af",
   "metadata": {},
   "outputs": [],
   "source": [
    "t = (2, 4, 6, 8, 10)\n",
    "max(t)"
   ]
  },
  {
   "cell_type": "markdown",
   "id": "604bc31e",
   "metadata": {},
   "source": [
    "22. Find the minimum value in a tuple."
   ]
  },
  {
   "cell_type": "code",
   "execution_count": null,
   "id": "700d5055",
   "metadata": {},
   "outputs": [],
   "source": [
    "t = (2, 4, 6, 8, 10)\n",
    "min(t)"
   ]
  },
  {
   "cell_type": "markdown",
   "id": "6e86410b",
   "metadata": {},
   "source": [
    "23. Convert a string to a tuple of characters."
   ]
  },
  {
   "cell_type": "code",
   "execution_count": null,
   "id": "f3adf684",
   "metadata": {},
   "outputs": [],
   "source": [
    "text = \"hello\"\n",
    "tuple(text)"
   ]
  },
  {
   "cell_type": "markdown",
   "id": "97184002",
   "metadata": {},
   "source": [
    "24. Convert a tuple of characters to a string."
   ]
  },
  {
   "cell_type": "code",
   "execution_count": null,
   "id": "355e4adf",
   "metadata": {},
   "outputs": [],
   "source": [
    "t = ('h', 'e', 'l', 'l', 'o')\n",
    "''.join(t)"
   ]
  },
  {
   "cell_type": "markdown",
   "id": "1062a614",
   "metadata": {},
   "source": [
    "25. Create a tuple from multiple data types."
   ]
  },
  {
   "cell_type": "code",
   "execution_count": null,
   "id": "d61a6bbc",
   "metadata": {},
   "outputs": [],
   "source": [
    "text = \"hello\"\n",
    "num = 10\n",
    "fl = 20.00\n",
    "\n",
    "t = (text, num, fl)\n",
    "t"
   ]
  },
  {
   "cell_type": "markdown",
   "id": "0f0dc08f",
   "metadata": {},
   "source": [
    "26. Check if two tuples are identical."
   ]
  },
  {
   "cell_type": "code",
   "execution_count": null,
   "id": "cbc61fc8",
   "metadata": {},
   "outputs": [],
   "source": [
    "t1 = (2, 4, 6, 8, 10)\n",
    "t2 = (2, 4, 6, 8, 10)\n",
    "if t1 == t2:\n",
    "    print(\"Both tuples are identical\")\n",
    "else:\n",
    "    print(\"Both tuples are NOT identical\")"
   ]
  },
  {
   "cell_type": "markdown",
   "id": "8e070d0f",
   "metadata": {},
   "source": [
    "27. Sort the elements of a tuple."
   ]
  },
  {
   "cell_type": "code",
   "execution_count": null,
   "id": "74f99ecc",
   "metadata": {},
   "outputs": [],
   "source": [
    "t = (2, 44, 16, 8, 10)\n",
    "ls = list(t)\n",
    "ls.sort()\n",
    "tuple(ls)"
   ]
  },
  {
   "cell_type": "markdown",
   "id": "23d98a3e",
   "metadata": {},
   "source": [
    "28. Convert a tuple of integers to a tuple of strings."
   ]
  },
  {
   "cell_type": "code",
   "execution_count": null,
   "id": "27cadb7d",
   "metadata": {},
   "outputs": [],
   "source": [
    "tu = (2, 44, 16, 8, 10)\n",
    "new_t = tuple(str(t) for t in tu)\n",
    "new_t"
   ]
  },
  {
   "cell_type": "markdown",
   "id": "faaaf5c4",
   "metadata": {},
   "source": [
    "29. Convert a tuple of strings to a tuple of integers."
   ]
  },
  {
   "cell_type": "code",
   "execution_count": null,
   "id": "72ba7a4e",
   "metadata": {},
   "outputs": [],
   "source": [
    "tu = ('2', '44', '16', '8', '10')\n",
    "new_t = tuple(int(t) for t in tu)\n",
    "new_t"
   ]
  },
  {
   "cell_type": "markdown",
   "id": "7e2e369a",
   "metadata": {},
   "source": [
    "30. Merge two tuples."
   ]
  },
  {
   "cell_type": "code",
   "execution_count": null,
   "id": "a1cbda59",
   "metadata": {},
   "outputs": [],
   "source": [
    "t1 = (2, 4, 6, 8, 10)\n",
    "t2 = (1, 3, 5, 7, 9)\n",
    "t = t1 + t2\n",
    "t"
   ]
  },
  {
   "cell_type": "markdown",
   "id": "f2653a21",
   "metadata": {},
   "source": [
    "31. Flatten a nested tuple.|\n"
   ]
  },
  {
   "cell_type": "code",
   "execution_count": null,
   "id": "061a9a93",
   "metadata": {},
   "outputs": [],
   "source": [
    "nt = (1, (2, 3), (4, (5, 6)))\n",
    "ls = list(nt)\n",
    "fl = []\n",
    "for l in ls:\n",
    "    if isinstance(l, tuple):\n",
    "        for subl in l:\n",
    "            if isinstance(subl, tuple):\n",
    "                fl.extend(subl)\n",
    "            else:\n",
    "                fl.append(subl)\n",
    "    else:\n",
    "        fl.append(l)\n",
    "    \n",
    "tuple(fl)"
   ]
  },
  {
   "cell_type": "markdown",
   "id": "57e5fd97",
   "metadata": {},
   "source": [
    "32. Create a tuple of the first 5 prime numbers."
   ]
  },
  {
   "cell_type": "code",
   "execution_count": null,
   "id": "24bcd1fb",
   "metadata": {},
   "outputs": [],
   "source": [
    "prime = []\n",
    "\n",
    "for n in range(12):\n",
    "    if n <= 1:\n",
    "        isPrime = False\n",
    "    elif n <= 3:\n",
    "        isPrime = True\n",
    "    elif n % 2 == 0 or n % 3 == 0:\n",
    "        isPrime = False\n",
    "    else:\n",
    "        i = 5\n",
    "        # 5 * 5 <= 5\n",
    "        while i * i <= n:\n",
    "            #5 % 5 == 0 or 5 % (5 + 2)\n",
    "            # 0 or 5\n",
    "            if n % i == 0 or n % (i + 2) == 0:\n",
    "                isPrime = False\n",
    "                break\n",
    "            i += 6\n",
    "        else:\n",
    "            isPrime = True\n",
    "\n",
    "\n",
    "    if isPrime:\n",
    "        prime.append(n)\n",
    "\n",
    "tuple(prime)\n"
   ]
  },
  {
   "cell_type": "markdown",
   "id": "81b52caa",
   "metadata": {},
   "source": [
    "33. Check if a tuple is a palindrome."
   ]
  },
  {
   "cell_type": "code",
   "execution_count": null,
   "id": "1627f2a6",
   "metadata": {},
   "outputs": [],
   "source": [
    "tuple1 = (1,2,3,2,1)\n",
    "\n",
    "if tuple1 == tuple1[::-1]:\n",
    "    print(\"Given tupple is palindrome\")\n",
    "else:\n",
    "    print(\"Given tupple is not a palindrome\")"
   ]
  },
  {
   "cell_type": "markdown",
   "id": "b593c212",
   "metadata": {},
   "source": [
    "34. Create a tuple of squares of numbers from 1 to 5."
   ]
  },
  {
   "cell_type": "code",
   "execution_count": null,
   "id": "c88d173f",
   "metadata": {},
   "outputs": [],
   "source": [
    "tup = tuple()\n",
    "for t in range(1,6):\n",
    "    tup += (t**2,)\n",
    "\n",
    "tup"
   ]
  },
  {
   "cell_type": "markdown",
   "id": "6811c83b",
   "metadata": {},
   "source": [
    "35. Filter out all even numbers from a tuple."
   ]
  },
  {
   "cell_type": "code",
   "execution_count": null,
   "id": "f95dfc00",
   "metadata": {},
   "outputs": [],
   "source": [
    "tup = tuple()\n",
    "for t in range(1,15):\n",
    "    if t%2 == 0 :\n",
    "        tup += (t,)\n",
    "\n",
    "tup"
   ]
  },
  {
   "cell_type": "markdown",
   "id": "29eaf872",
   "metadata": {},
   "source": [
    "36. Multiply all elements in a tuple by 2"
   ]
  },
  {
   "cell_type": "code",
   "execution_count": null,
   "id": "77dc56c6",
   "metadata": {},
   "outputs": [],
   "source": [
    "tup = tuple()\n",
    "for t in range(1,10):\n",
    "    tup += (t*2,)\n",
    "\n",
    "tup"
   ]
  },
  {
   "cell_type": "markdown",
   "id": "0e8dae6f",
   "metadata": {},
   "source": [
    "37. Create a tuple of random numbers."
   ]
  },
  {
   "cell_type": "code",
   "execution_count": null,
   "id": "93467734",
   "metadata": {},
   "outputs": [],
   "source": [
    "import random\n",
    "tup = tuple()\n",
    "for t in range(1,10):\n",
    "    rand = random.randint(1,100)\n",
    "    tup += (rand,)\n",
    "\n",
    "tup"
   ]
  },
  {
   "cell_type": "markdown",
   "id": "bdd55b38",
   "metadata": {},
   "source": [
    "38. Check if a tuple is sorted.\n"
   ]
  },
  {
   "cell_type": "code",
   "execution_count": null,
   "id": "c3125d83",
   "metadata": {},
   "outputs": [],
   "source": [
    "# Create an unsorted tuple\n",
    "tup = (3, 1, 4, 1, 5)\n",
    "#tup = (1,2,3,4,5,6)\n",
    "for i in range(len(tup)-1):\n",
    "    if tup[i] > tup[i+1]:\n",
    "        print(\"Tuple is unsorted\")\n",
    "        break\n",
    "else:\n",
    "    print(\"Tuple is sorted\")"
   ]
  },
  {
   "cell_type": "markdown",
   "id": "75b3d4c1",
   "metadata": {},
   "source": [
    "39. Rotate a tuple to the left by `n` positions.\n"
   ]
  },
  {
   "cell_type": "code",
   "execution_count": null,
   "id": "52012ea5",
   "metadata": {},
   "outputs": [],
   "source": [
    "tup = (1,2,3,4,5,6)\n",
    "p = 2\n",
    "tup[p:] + tup[:p]"
   ]
  },
  {
   "cell_type": "markdown",
   "id": "38838807",
   "metadata": {},
   "source": [
    "40. Rotate a tuple to the right by `n` positions."
   ]
  },
  {
   "cell_type": "code",
   "execution_count": null,
   "id": "25787293",
   "metadata": {},
   "outputs": [],
   "source": [
    "tup = (1,2,3,4,5,6)\n",
    "p = 2\n",
    "tup[-p:] + tup[:-p]"
   ]
  },
  {
   "cell_type": "markdown",
   "id": "9ef1bd00",
   "metadata": {},
   "source": [
    "41. Create a tuple of the first 5 Fibonacci numbers.\n"
   ]
  },
  {
   "cell_type": "code",
   "execution_count": null,
   "id": "ef40906c",
   "metadata": {},
   "outputs": [],
   "source": [
    "tup = (0, 1)\n",
    "for t in range(1, 4):\n",
    "    fin = tup[-1] + tup[-2]\n",
    "    tup += (fin,)\n",
    "\n",
    "tup"
   ]
  },
  {
   "cell_type": "markdown",
   "id": "dd7ad536",
   "metadata": {},
   "source": [
    "42. Create a tuple from user input.\n"
   ]
  },
  {
   "cell_type": "code",
   "execution_count": null,
   "id": "fca37ed0",
   "metadata": {},
   "outputs": [],
   "source": [
    "r1 = int(input(\"Enter min value: \"))\n",
    "r2 = int(input(\"Enter max value: \"))\n",
    "tuple(range(r1, r2))"
   ]
  },
  {
   "cell_type": "markdown",
   "id": "af358933",
   "metadata": {},
   "source": [
    "43. Swap two elements in a tuple."
   ]
  },
  {
   "cell_type": "code",
   "execution_count": null,
   "id": "00b17ba8",
   "metadata": {},
   "outputs": [],
   "source": [
    "tup = tuple(range(1,6))\n",
    "ls = list(tup)\n",
    "ls[2], ls[3] = ls[3], ls[2]\n",
    "tup = tuple(ls)\n",
    "tup"
   ]
  },
  {
   "cell_type": "markdown",
   "id": "5e91f891",
   "metadata": {},
   "source": [
    "44. Reverse the elements of a tuple.\n"
   ]
  },
  {
   "cell_type": "code",
   "execution_count": null,
   "id": "59e7992c",
   "metadata": {},
   "outputs": [],
   "source": [
    "tup = tuple(range(1,6))\n",
    "tuple(reversed(tup))"
   ]
  },
  {
   "cell_type": "markdown",
   "id": "9baed082",
   "metadata": {},
   "source": [
    "45. Create a tuple of the first `n` powers of 2.\n"
   ]
  },
  {
   "cell_type": "code",
   "execution_count": null,
   "id": "a22002de",
   "metadata": {},
   "outputs": [],
   "source": [
    "tup= tuple()\n",
    "for t in range(10):\n",
    "    tup += (2 ** t,)\n",
    "tup"
   ]
  },
  {
   "cell_type": "markdown",
   "id": "8f7989ee",
   "metadata": {},
   "source": [
    "46. Find the longest string in a tuple of strings.\n"
   ]
  },
  {
   "cell_type": "code",
   "execution_count": null,
   "id": "fad94330",
   "metadata": {},
   "outputs": [],
   "source": [
    "tup = (\"hi\", \"how\", \"are\", \"yossssu\", \"doing\")\n",
    "max_str = \"\"\n",
    "for t in tup:\n",
    "    if len(t) > len(max_str):\n",
    "        max_str = t\n",
    "\n",
    "max_str"
   ]
  },
  {
   "cell_type": "markdown",
   "id": "17a4fbb0",
   "metadata": {},
   "source": [
    "47. Find the shortest string in a tuple of strings.\n"
   ]
  },
  {
   "cell_type": "code",
   "execution_count": null,
   "id": "06a9d9ea",
   "metadata": {},
   "outputs": [],
   "source": [
    "tup = (\"hi\", \"how\", \"are\", \"yossssu\", \"s\", \"doing\")\n",
    "max_str = tup[0]\n",
    "for t in tup:\n",
    "    if len(t) < len(max_str):\n",
    "        max_str = t\n",
    "\n",
    "max_str"
   ]
  },
  {
   "cell_type": "markdown",
   "id": "40734a64",
   "metadata": {},
   "source": [
    "48. Create a tuple of the first `n` triangular numbers."
   ]
  },
  {
   "cell_type": "code",
   "execution_count": null,
   "id": "c0b6be16",
   "metadata": {},
   "outputs": [],
   "source": [
    "# T(n) = (n * (n + 1)) / 2\n",
    "n = 4\n",
    "tuple((t*(t+1))//2 for t in range(1,n))"
   ]
  },
  {
   "cell_type": "markdown",
   "id": "5d38cad5",
   "metadata": {},
   "source": [
    "49. Check if a tuple contains another tuple as a subsequence.\n"
   ]
  },
  {
   "cell_type": "code",
   "execution_count": null,
   "id": "fddb1f42",
   "metadata": {},
   "outputs": [],
   "source": [
    "main_list = (1, 2, 3, 4, 5, 6)\n",
    "sub_list = (2, 3, 6)\n",
    "\n",
    "sub_idx = 0\n",
    "\n",
    "for ml in range(len(main_list)):\n",
    "    if sub_list[sub_idx] == main_list[ml]:\n",
    "        #print(f\"{sub_list[sub_idx]}   {main_list[ml]}\")\n",
    "        sub_idx += 1\n",
    "\n",
    "if len(sub_list) == sub_idx:\n",
    "    print(\"sub_list is a subsequence of main_list.\")\n",
    "else:\n",
    "    print(\"sub_list is not a subsequence of main_list.\")"
   ]
  },
  {
   "cell_type": "markdown",
   "id": "8b636097",
   "metadata": {},
   "source": [
    "50. Create a tuple of alternating 1s and 0s of length `n`"
   ]
  },
  {
   "cell_type": "code",
   "execution_count": null,
   "id": "1ccd4253",
   "metadata": {},
   "outputs": [],
   "source": [
    "n = 5\n",
    "ls = []\n",
    "for i in range(n):\n",
    "    ls.append([1, 0][i % 2])\n",
    "\n",
    "tuple(ls)"
   ]
  },
  {
   "cell_type": "markdown",
   "id": "b6dedb5d",
   "metadata": {
    "tags": []
   },
   "source": [
    "## Set Based Practice Problem "
   ]
  },
  {
   "cell_type": "markdown",
   "id": "f12cfebe",
   "metadata": {},
   "source": [
    "1. Create a set with integers from 1 to 5."
   ]
  },
  {
   "cell_type": "code",
   "execution_count": null,
   "id": "35965ee5",
   "metadata": {},
   "outputs": [],
   "source": [
    "a = set(range(1,6))\n",
    "a"
   ]
  },
  {
   "cell_type": "markdown",
   "id": "c4d72797",
   "metadata": {},
   "source": [
    "2. Add an element to a set.\n"
   ]
  },
  {
   "cell_type": "code",
   "execution_count": null,
   "id": "a6979aac",
   "metadata": {},
   "outputs": [],
   "source": [
    "a = set(range(1,6))\n",
    "a.add(10)\n",
    "a"
   ]
  },
  {
   "cell_type": "markdown",
   "id": "9517945e",
   "metadata": {},
   "source": [
    "3. Remove an element from a set.\n"
   ]
  },
  {
   "cell_type": "code",
   "execution_count": null,
   "id": "2fc0dac5",
   "metadata": {},
   "outputs": [],
   "source": [
    "a = set(range(1,6))\n",
    "a.remove(3)\n",
    "a"
   ]
  },
  {
   "cell_type": "markdown",
   "id": "a3d9f52f",
   "metadata": {},
   "source": [
    "4. Check if an element exists in a set."
   ]
  },
  {
   "cell_type": "code",
   "execution_count": null,
   "id": "399f2905",
   "metadata": {},
   "outputs": [],
   "source": [
    "if 5 in set(range(1,10)):\n",
    "    print(\"exists\")"
   ]
  },
  {
   "cell_type": "markdown",
   "id": "3c605b4e",
   "metadata": {},
   "source": [
    "5. Find the length of a set without using the `len()` function.\n"
   ]
  },
  {
   "cell_type": "code",
   "execution_count": null,
   "id": "0542e7fd",
   "metadata": {},
   "outputs": [],
   "source": [
    "s1 = set(range(1,10))\n",
    "count = 0\n",
    "for s in s1:\n",
    "    count += 1\n",
    "\n",
    "print(\"length of set is \", count)"
   ]
  },
  {
   "cell_type": "markdown",
   "id": "a707d710",
   "metadata": {},
   "source": [
    "6. Clear all elements from a set.\n"
   ]
  },
  {
   "cell_type": "code",
   "execution_count": null,
   "id": "3c127cf2",
   "metadata": {},
   "outputs": [],
   "source": [
    "s1 = set(range(1,10))\n",
    "s1.clear()\n",
    "s1"
   ]
  },
  {
   "cell_type": "markdown",
   "id": "9eb7d020",
   "metadata": {},
   "source": [
    "7. Create a set of even numbers from 1 to 10.\n"
   ]
  },
  {
   "cell_type": "code",
   "execution_count": null,
   "id": "c1ef123f",
   "metadata": {},
   "outputs": [],
   "source": [
    "even_num = {x for x in range(1,10) if x % 2 == 0}\n",
    "even_num"
   ]
  },
  {
   "cell_type": "markdown",
   "id": "272fbf99",
   "metadata": {},
   "source": [
    "8. Create a set of odd numbers from 1 to 10.\n"
   ]
  },
  {
   "cell_type": "code",
   "execution_count": null,
   "id": "387d4366",
   "metadata": {},
   "outputs": [],
   "source": [
    "even_num = {x for x in range(1,10) if x % 2 != 0}\n",
    "even_num"
   ]
  },
  {
   "cell_type": "markdown",
   "id": "f094069e",
   "metadata": {},
   "source": [
    "9. Find the union of two sets.\n"
   ]
  },
  {
   "cell_type": "code",
   "execution_count": null,
   "id": "ba462e20",
   "metadata": {},
   "outputs": [],
   "source": [
    "s1 = set(range(1,6))\n",
    "s2 = set(range(5,10))\n",
    "\n",
    "s1.union(s2)"
   ]
  },
  {
   "cell_type": "markdown",
   "id": "6bea2c8c",
   "metadata": {},
   "source": [
    "10. Find the intersection of two sets.\n"
   ]
  },
  {
   "cell_type": "code",
   "execution_count": null,
   "id": "12c22941",
   "metadata": {},
   "outputs": [],
   "source": [
    "s1 = set(range(1,8))\n",
    "s2 = set(range(5,10))\n",
    "\n",
    "s1.intersection(s2)"
   ]
  },
  {
   "cell_type": "markdown",
   "id": "cebd6c5d",
   "metadata": {},
   "source": [
    "11. Find the difference between two sets.\n"
   ]
  },
  {
   "cell_type": "code",
   "execution_count": null,
   "id": "142fa3a5",
   "metadata": {},
   "outputs": [],
   "source": [
    "s1 = set(range(1,8))\n",
    "s2 = set(range(5,10))\n",
    "\n",
    "s1.difference(s2)"
   ]
  },
  {
   "cell_type": "markdown",
   "id": "847e9d48",
   "metadata": {},
   "source": [
    "12. Check if a set is a subset of another set."
   ]
  },
  {
   "cell_type": "code",
   "execution_count": null,
   "id": "fa1644a1",
   "metadata": {},
   "outputs": [],
   "source": [
    "s1 = set(range(1,8))\n",
    "s2 = set(range(2,5))\n",
    "\n",
    "s2.issubset(s1)"
   ]
  },
  {
   "cell_type": "markdown",
   "id": "14f3bb20",
   "metadata": {},
   "source": [
    "13. Check if a set is a superset of another set.\n"
   ]
  },
  {
   "cell_type": "code",
   "execution_count": null,
   "id": "aea32010",
   "metadata": {},
   "outputs": [],
   "source": [
    "s1 = set(range(1,8))\n",
    "s2 = set(range(2,5))\n",
    "\n",
    "s1.issuperset(s2)"
   ]
  },
  {
   "cell_type": "markdown",
   "id": "37674f22",
   "metadata": {},
   "source": [
    "14. Create a set from a list.\n"
   ]
  },
  {
   "cell_type": "code",
   "execution_count": null,
   "id": "c1b041eb",
   "metadata": {},
   "outputs": [],
   "source": [
    "ls = list(range(10))\n",
    "s1 = set(ls)\n",
    "s1"
   ]
  },
  {
   "cell_type": "markdown",
   "id": "dd2ba875",
   "metadata": {},
   "source": [
    "15. Convert a set to a list."
   ]
  },
  {
   "cell_type": "code",
   "execution_count": null,
   "id": "b0e239b9",
   "metadata": {},
   "outputs": [],
   "source": [
    "s1 = set(range(10))\n",
    "list(s1)"
   ]
  },
  {
   "cell_type": "markdown",
   "id": "ee44ba82",
   "metadata": {},
   "source": [
    "16. Remove a random element from a set."
   ]
  },
  {
   "cell_type": "code",
   "execution_count": null,
   "id": "29494299",
   "metadata": {},
   "outputs": [],
   "source": [
    "import random\n",
    "\n",
    "s1 = set(range(1,10))\n",
    "print(s1)\n",
    "s1.remove(random.randint(1,9))\n",
    "print(s1)"
   ]
  },
  {
   "cell_type": "markdown",
   "id": "ea47b7f9",
   "metadata": {},
   "source": [
    "17. Pop an element from a set."
   ]
  },
  {
   "cell_type": "code",
   "execution_count": null,
   "id": "76234bf0",
   "metadata": {},
   "outputs": [],
   "source": [
    "s1 = set(range(1,10))\n",
    "s1.pop()\n",
    "s1"
   ]
  },
  {
   "cell_type": "markdown",
   "id": "94652b05",
   "metadata": {},
   "source": [
    "18. Check if two sets have no elements in common."
   ]
  },
  {
   "cell_type": "code",
   "execution_count": null,
   "id": "03ae042a",
   "metadata": {},
   "outputs": [],
   "source": [
    "s1 = set(range(1,5))\n",
    "s2 = set(range(5,10))\n",
    "\n",
    "if len(s1.intersection(s2)) > 0:\n",
    "    print(\"Two sets have a common elments\", s1.intersection(s2))\n",
    "else:\n",
    "    print(\"Two sets have no common elments\")\n"
   ]
  },
  {
   "cell_type": "markdown",
   "id": "4ada0be2",
   "metadata": {},
   "source": [
    "19. Find the symmetric difference between two sets."
   ]
  },
  {
   "cell_type": "code",
   "execution_count": null,
   "id": "82b1117d",
   "metadata": {},
   "outputs": [],
   "source": [
    "s1 = set(range(1,7))\n",
    "s2 = set(range(5,10))\n",
    "\n",
    "s1.symmetric_difference(s2)"
   ]
  },
  {
   "cell_type": "markdown",
   "id": "6e405069",
   "metadata": {},
   "source": [
    "20. Update a set with elements from another set."
   ]
  },
  {
   "cell_type": "code",
   "execution_count": null,
   "id": "234512a5",
   "metadata": {},
   "outputs": [],
   "source": [
    "s1 = {1, 2, 3, 4, 5, 8}\n",
    "s2 = {3, 4, 5, 6, 7}\n",
    "s1.update(s2)\n",
    "s1"
   ]
  },
  {
   "cell_type": "markdown",
   "id": "a25711a6",
   "metadata": {},
   "source": [
    "21. Create a set of the first 5 prime numbers."
   ]
  },
  {
   "cell_type": "code",
   "execution_count": null,
   "id": "0540ea81",
   "metadata": {},
   "outputs": [],
   "source": [
    "prime = []\n",
    "\n",
    "for n in range(12):\n",
    "    if n <= 1:\n",
    "        isPrime = False\n",
    "    elif n <= 3:\n",
    "        isPrime = True\n",
    "    elif n % 2 == 0 or n % 3 == 0:\n",
    "        isPrime = False\n",
    "    else:\n",
    "        i = 5\n",
    "        # 5 * 5 <= 5\n",
    "        while i * i <= n:\n",
    "            #5 % 5 == 0 or 5 % (5 + 2)\n",
    "            # 0 or 5\n",
    "            if n % i == 0 or n % (i + 2) == 0:\n",
    "                isPrime = False\n",
    "                break\n",
    "            i += 6\n",
    "        else:\n",
    "            isPrime = True\n",
    "\n",
    "\n",
    "    if isPrime:\n",
    "        prime.append(n)\n",
    "\n",
    "set(prime)\n"
   ]
  },
  {
   "cell_type": "markdown",
   "id": "a356fb49",
   "metadata": {},
   "source": [
    "22. Check if two sets are identical."
   ]
  },
  {
   "cell_type": "code",
   "execution_count": null,
   "id": "ec7362e6",
   "metadata": {},
   "outputs": [],
   "source": [
    "s1 = {1, 2, 3, 4, 5, 6}\n",
    "s2 = {3, 4, 5, 6, 2, 1}\n",
    "\n",
    "if s1 == s2:\n",
    "    print(\"Indentical\")\n",
    "else:\n",
    "    print(\"Not Identical\")"
   ]
  },
  {
   "cell_type": "markdown",
   "id": "1bdaabc7",
   "metadata": {},
   "source": [
    "23. Create a frozen set."
   ]
  },
  {
   "cell_type": "code",
   "execution_count": null,
   "id": "71bd3cca",
   "metadata": {},
   "outputs": [],
   "source": [
    "s = frozenset({1, 2, 3, 4, 5})"
   ]
  },
  {
   "cell_type": "markdown",
   "id": "2e04a22c",
   "metadata": {},
   "source": [
    "24. Check if a set is disjoint with another set."
   ]
  },
  {
   "cell_type": "code",
   "execution_count": null,
   "id": "80b18542",
   "metadata": {},
   "outputs": [],
   "source": [
    "s1 = {1, 2, 3}\n",
    "s2 = {4, 5, 6}\n",
    "\n",
    "if s1.isdisjoint(s2):\n",
    "    print(\"Sets are Disjoint\")\n",
    "else:\n",
    "    print(\"Sets are not a disjoint\")"
   ]
  },
  {
   "cell_type": "markdown",
   "id": "e237d75f",
   "metadata": {},
   "source": [
    "25. Create a set of squares of numbers from 1 to 5."
   ]
  },
  {
   "cell_type": "code",
   "execution_count": null,
   "id": "54fccd23",
   "metadata": {},
   "outputs": [],
   "source": [
    "{s**2 for s in range(1,6)}"
   ]
  },
  {
   "cell_type": "markdown",
   "id": "72bdbc27",
   "metadata": {},
   "source": [
    "26. Filter out all even numbers from a set."
   ]
  },
  {
   "cell_type": "code",
   "execution_count": null,
   "id": "f08822ae",
   "metadata": {},
   "outputs": [],
   "source": [
    "{s for s in range(1,10) if s%2 != 0}"
   ]
  },
  {
   "cell_type": "markdown",
   "id": "ff0c65e9",
   "metadata": {},
   "source": [
    "27. Multiply all elements in a set by 2."
   ]
  },
  {
   "cell_type": "code",
   "execution_count": null,
   "id": "46f986d8",
   "metadata": {},
   "outputs": [],
   "source": [
    "s1 = {2,5,8,9} \n",
    "{s*2 for s in s1}"
   ]
  },
  {
   "cell_type": "markdown",
   "id": "d5164894",
   "metadata": {},
   "source": [
    "28. Create a set of random numbers."
   ]
  },
  {
   "cell_type": "code",
   "execution_count": null,
   "id": "f7723832",
   "metadata": {},
   "outputs": [],
   "source": [
    "import random\n",
    "{random.randint(1,100) for s in range(0,10)}\n"
   ]
  },
  {
   "cell_type": "markdown",
   "id": "ec2ee8d7",
   "metadata": {},
   "source": [
    "29. Check if a set is empty."
   ]
  },
  {
   "cell_type": "code",
   "execution_count": null,
   "id": "50a4ae5c",
   "metadata": {},
   "outputs": [],
   "source": [
    "s1 = set()\n",
    "if len(s1) == 0:\n",
    "    print(\"Set is empty\")\n",
    "else:\n",
    "    print(\"String is not empty\")\n"
   ]
  },
  {
   "cell_type": "markdown",
   "id": "d92818f2",
   "metadata": {},
   "source": [
    "30. Create a nested set (hint: use frozenset)."
   ]
  },
  {
   "cell_type": "code",
   "execution_count": null,
   "id": "374b0dd4",
   "metadata": {},
   "outputs": [],
   "source": [
    "frozenset([1, 2, frozenset([3, 4])])"
   ]
  },
  {
   "cell_type": "markdown",
   "id": "1d2a6ae0",
   "metadata": {},
   "source": [
    "31. Remove an element from a set using the discard method"
   ]
  },
  {
   "cell_type": "code",
   "execution_count": null,
   "id": "99d98c6f",
   "metadata": {},
   "outputs": [],
   "source": [
    "s1 = {1, 2, 3, 4, 5}\n",
    "s1.discard(3)\n",
    "s1"
   ]
  },
  {
   "cell_type": "markdown",
   "id": "33e43df8",
   "metadata": {},
   "source": [
    "32. Compare two sets."
   ]
  },
  {
   "cell_type": "code",
   "execution_count": null,
   "id": "f7ee616e",
   "metadata": {},
   "outputs": [],
   "source": [
    "s1 = {1, 2, 3, 4, 5}\n",
    "s2 = {1, 2, 3, 4, 5}\n",
    "\n",
    "if s1 == s2:\n",
    "    print(\"Sets are same\")\n",
    "else:\n",
    "    print(\"Sets are different\")"
   ]
  },
  {
   "cell_type": "markdown",
   "id": "3e74c711",
   "metadata": {},
   "source": [
    "33. Create a set from a string."
   ]
  },
  {
   "cell_type": "code",
   "execution_count": null,
   "id": "2e8af2ad",
   "metadata": {},
   "outputs": [],
   "source": [
    "text = \"hello how are you\"\n",
    "set(text)"
   ]
  },
  {
   "cell_type": "markdown",
   "id": "47310715",
   "metadata": {},
   "source": [
    "34. Convert a set of strings to a set of integers."
   ]
  },
  {
   "cell_type": "code",
   "execution_count": null,
   "id": "46f5a611",
   "metadata": {},
   "outputs": [],
   "source": [
    "s1 = {'1', '2', '4', '5'}\n",
    "{int(s) for s in s1}\n"
   ]
  },
  {
   "cell_type": "markdown",
   "id": "cdf7b6d5",
   "metadata": {},
   "source": [
    "35. Convert a set of integers to a set of strings."
   ]
  },
  {
   "cell_type": "code",
   "execution_count": null,
   "id": "1417ebf6",
   "metadata": {},
   "outputs": [],
   "source": [
    "s1 = {1, 2, 4, 5}\n",
    "s2 = set()\n",
    "for s in s1:\n",
    "    s2.add(str(s))\n",
    "s2"
   ]
  },
  {
   "cell_type": "markdown",
   "id": "b2e96da6",
   "metadata": {},
   "source": [
    "36. Create a set from a tuple."
   ]
  },
  {
   "cell_type": "code",
   "execution_count": null,
   "id": "39e10637",
   "metadata": {},
   "outputs": [],
   "source": [
    "tup = (1, 3, 4, 5)\n",
    "s = set(tup)\n",
    "print(type(s))\n",
    "print(s)"
   ]
  },
  {
   "cell_type": "markdown",
   "id": "84027e84",
   "metadata": {},
   "source": [
    "37. Convert a set to a tuple."
   ]
  },
  {
   "cell_type": "code",
   "execution_count": null,
   "id": "5df5d15b",
   "metadata": {},
   "outputs": [],
   "source": [
    "s = {1, 3, 4, 5, 8, 7}\n",
    "t = tuple(s)\n",
    "t"
   ]
  },
  {
   "cell_type": "markdown",
   "id": "7fc61f15",
   "metadata": {},
   "source": [
    "38. Find the maximum value in a set."
   ]
  },
  {
   "cell_type": "code",
   "execution_count": null,
   "id": "2bcba186",
   "metadata": {},
   "outputs": [],
   "source": [
    "s = {1, 3, 4, 5, 8, 7}\n",
    "max(s)"
   ]
  },
  {
   "cell_type": "markdown",
   "id": "7bb00ac7",
   "metadata": {},
   "source": [
    "39. Find the minimum value in a set."
   ]
  },
  {
   "cell_type": "code",
   "execution_count": null,
   "id": "af3e07df",
   "metadata": {},
   "outputs": [],
   "source": [
    "s = {1, 3, 4, 5, 8, 7}\n",
    "min(s)"
   ]
  },
  {
   "cell_type": "markdown",
   "id": "2fb60a06",
   "metadata": {},
   "source": [
    "40. Create a set from user input."
   ]
  },
  {
   "cell_type": "code",
   "execution_count": null,
   "id": "63ef96fd",
   "metadata": {},
   "outputs": [],
   "source": [
    "s = set()\n",
    "n = int(input(\"Enter tuple length: \"))\n",
    "for i in range(n):\n",
    "    n = int(input(f\"enter element {i+1} \"))\n",
    "    s.add(n)\n",
    "\n",
    "s"
   ]
  },
  {
   "cell_type": "markdown",
   "id": "b6e39d1d",
   "metadata": {},
   "source": [
    "41. Check if the intersection of two sets is empty."
   ]
  },
  {
   "cell_type": "code",
   "execution_count": null,
   "id": "58a26868",
   "metadata": {},
   "outputs": [],
   "source": [
    "s1 = {1, 2, 3, 4, 5}\n",
    "s2 = {6,7,8}\n",
    "\n",
    "print(s1.intersection(s2))\n",
    "\n",
    "if len(s1.intersection(s2)) > 0 :\n",
    "    print(\"Intersection of two sets is not empty\")\n",
    "else:\n",
    "    print(\"Intersection of two sets is empty\")"
   ]
  },
  {
   "cell_type": "markdown",
   "id": "5cd53d77",
   "metadata": {},
   "source": [
    "42. Create a set of the first 5 Fibonacci numbers."
   ]
  },
  {
   "cell_type": "code",
   "execution_count": null,
   "id": "5d3e7800",
   "metadata": {},
   "outputs": [],
   "source": [
    "fin = [0, 1]\n",
    "for l in range(4):\n",
    "     fin.append(fin[-1] + fin[-2])\n",
    "        \n",
    "set(fin)"
   ]
  },
  {
   "cell_type": "markdown",
   "id": "15f2dc0e",
   "metadata": {},
   "source": [
    "43. Remove duplicates from a list using sets."
   ]
  },
  {
   "cell_type": "code",
   "execution_count": null,
   "id": "d424a209",
   "metadata": {},
   "outputs": [],
   "source": [
    "s = {2, 3, 4, 6, 3, 6, 7}\n",
    "s"
   ]
  },
  {
   "cell_type": "markdown",
   "id": "562d8c69",
   "metadata": {},
   "source": [
    "44. Check if two sets have the same elements, regardless of their count."
   ]
  },
  {
   "cell_type": "code",
   "execution_count": null,
   "id": "95059c08",
   "metadata": {},
   "outputs": [],
   "source": [
    "s1 = {1, 2, 3, 4, 5}\n",
    "s2 = {2, 3, 4}\n",
    "\n",
    "print(s1.intersection(s2))\n",
    "\n",
    "if len(s1.intersection(s2)) > 0 :\n",
    "    print(\"Two sets have common elements\")\n",
    "else:\n",
    "    print(\"Two sets doens't have common elements\")\n"
   ]
  },
  {
   "cell_type": "markdown",
   "id": "638043d4",
   "metadata": {},
   "source": [
    "45. Create a set of the first `n` powers of 2."
   ]
  },
  {
   "cell_type": "code",
   "execution_count": null,
   "id": "ab5c45e1",
   "metadata": {},
   "outputs": [],
   "source": [
    "{2**n for n in range(0,10)}"
   ]
  },
  {
   "cell_type": "markdown",
   "id": "26f4db57",
   "metadata": {},
   "source": [
    "46. Find the common elements between a set and a list."
   ]
  },
  {
   "cell_type": "code",
   "execution_count": null,
   "id": "477c62c3",
   "metadata": {},
   "outputs": [],
   "source": [
    "ls = [2, 3, 4, 5]\n",
    "s = {2, 4}\n",
    "\n",
    "s.intersection(set(ls))"
   ]
  },
  {
   "cell_type": "markdown",
   "id": "587f6302",
   "metadata": {},
   "source": [
    "47. Create a set of the first `n` triangular numbers"
   ]
  },
  {
   "cell_type": "code",
   "execution_count": null,
   "id": "50b270a4",
   "metadata": {},
   "outputs": [],
   "source": [
    "# T(n) = (n * (n + 1)) / 2\n",
    "n = 4\n",
    "{(n * (n+1))//2 for n in range(1,n) }"
   ]
  },
  {
   "cell_type": "markdown",
   "id": "ebcf3b3d",
   "metadata": {},
   "source": [
    "48. Check if a set contains another set as a subset."
   ]
  },
  {
   "cell_type": "code",
   "execution_count": null,
   "id": "21fcef1e",
   "metadata": {},
   "outputs": [],
   "source": [
    "s1 = {1, 2, 3, 4, 5}\n",
    "s2 = {2, 5, 4}\n",
    "\n",
    "print(s2.issubset(s1))\n",
    "\n",
    "if s2.issubset(s1):\n",
    "    print(\"s2 is a subset of s1\")\n",
    "else:\n",
    "    print(\"s2 is not a subset of s1\")"
   ]
  },
  {
   "cell_type": "markdown",
   "id": "73eb9c57",
   "metadata": {},
   "source": [
    "49. Create a set of alternating 1s and 0s of length `n`."
   ]
  },
  {
   "cell_type": "code",
   "execution_count": null,
   "id": "c1f079e1",
   "metadata": {},
   "outputs": [],
   "source": [
    "n = 7\n",
    "ls = []\n",
    "for i in range(n):\n",
    "    ls.append([1, 0][i%2])\n",
    "set(ls)"
   ]
  },
  {
   "cell_type": "markdown",
   "id": "e9119ba9",
   "metadata": {},
   "source": [
    "50. Merge multiple sets into one."
   ]
  },
  {
   "cell_type": "code",
   "execution_count": null,
   "id": "2f9bb4b4",
   "metadata": {},
   "outputs": [],
   "source": [
    "s1 = {1, 2, 3, 4, 5}\n",
    "s2 = {2, 5, 4}\n",
    "set(list(s1) + list(s2))"
   ]
  }
 ],
 "metadata": {
  "kernelspec": {
   "display_name": "Python 3 (ipykernel)",
   "language": "python",
   "name": "python3"
  },
  "language_info": {
   "codemirror_mode": {
    "name": "ipython",
    "version": 3
   },
   "file_extension": ".py",
   "mimetype": "text/x-python",
   "name": "python",
   "nbconvert_exporter": "python",
   "pygments_lexer": "ipython3",
   "version": "3.10.8"
  }
 },
 "nbformat": 4,
 "nbformat_minor": 5
}
