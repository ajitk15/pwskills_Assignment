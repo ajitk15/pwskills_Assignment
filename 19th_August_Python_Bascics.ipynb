{
 "cells": [
  {
   "cell_type": "markdown",
   "id": "3e707600-1532-49c9-9f6d-874743b0d957",
   "metadata": {
    "tags": []
   },
   "source": [
    "## TOPIC: Python Basics Variable"
   ]
  },
  {
   "cell_type": "markdown",
   "id": "c2686d3c-2cc3-4125-89b8-dc256e501251",
   "metadata": {},
   "source": [
    "1. Declare two variables, `x` and `y`, and assign them integer values.Swap the values of these variables without using any temporary variable."
   ]
  },
  {
   "cell_type": "code",
   "execution_count": null,
   "id": "f1f815e2-bf5b-4b8c-9a10-91c976702893",
   "metadata": {},
   "outputs": [],
   "source": [
    "x = 100\n",
    "y = 200\n",
    "print(f\"x: {x}, y: {y}\")\n",
    "x,y = y,x\n",
    "print(f\"x: {x}, y: {y}\")"
   ]
  },
  {
   "cell_type": "markdown",
   "id": "1f452133-cd97-4137-8178-6d64e339c736",
   "metadata": {},
   "source": [
    "2. Create a program that calculates the area of a rectangle. Take the length and width as inputs from the user and store them in variables. Calculate and display the area."
   ]
  },
  {
   "cell_type": "code",
   "execution_count": null,
   "id": "e3d1e023-df27-464f-b26d-a8251eaa63b0",
   "metadata": {},
   "outputs": [],
   "source": [
    "length = float(input(\"Enter length of the rectangle: \"))\n",
    "width = float(input(\"Enter width of the width: \"))\n",
    "area = length * width\n",
    "print(f\"Area of the rectangle is {area} for the length {length} and width {width} \")"
   ]
  },
  {
   "cell_type": "markdown",
   "id": "30842d5e-f7f7-497a-8888-f887fb3f97df",
   "metadata": {},
   "source": [
    "3. Write a Python program that converts temperature from Celsius to Fahrenheit. Take the temperature in Celsius as input, store it in a variable, convert it to Fahrenheit, and display the result."
   ]
  },
  {
   "cell_type": "code",
   "execution_count": null,
   "id": "657f460d-bb4d-44a4-881b-5ed7162cb6d9",
   "metadata": {},
   "outputs": [],
   "source": [
    "Celsius = float(input(\"Enter temperature in Celsius: \"))\n",
    "Fahrenheit = (9/5)*Celsius + 32\n",
    "print(f\"Temperature of {Celsius} C in Fahrenheit is {Fahrenheit} F \")"
   ]
  },
  {
   "cell_type": "markdown",
   "id": "6183d7ca-cfe4-4d33-8df3-fdd8dd9a3533",
   "metadata": {},
   "source": [
    "## TOPIC: String Based Questions"
   ]
  },
  {
   "cell_type": "markdown",
   "id": "9c674300-6198-4b32-9a1b-848e3ee7a22c",
   "metadata": {},
   "source": [
    "1. Write a Python program that takes a string as input and prints the length of the string."
   ]
  },
  {
   "cell_type": "code",
   "execution_count": null,
   "id": "bf587384-ea21-4d7d-8ebc-ce10571febe3",
   "metadata": {},
   "outputs": [],
   "source": [
    "user_input = input(\"Enter your string: \")\n",
    "sting_len = len(user_input)\n",
    "print(f\"Lenght of the string '{user_input}' is {sting_len}\")"
   ]
  },
  {
   "cell_type": "markdown",
   "id": "5f37c132-2f2b-4c5b-a30a-2ad657126663",
   "metadata": {},
   "source": [
    "2. Create a program that takes a sentence from the user and counts the number of vowels (a, e, i, o, u) in the string."
   ]
  },
  {
   "cell_type": "code",
   "execution_count": null,
   "id": "11cd94aa-fcd1-4370-b493-bb0636137a91",
   "metadata": {},
   "outputs": [],
   "source": [
    "user_input = input(\"Enter your string: \")\n",
    "vowels = ['a', 'e', 'i', 'o', 'u']\n",
    "count = 0\n",
    "for v in user_input:\n",
    "    if v in vowels:\n",
    "        count += 1\n",
    "\n",
    "print(f\"Number of vowels in your string '{user_input}' is {count}\")\n"
   ]
  },
  {
   "cell_type": "markdown",
   "id": "ffdac595-7e7b-4347-b354-7c4199abd072",
   "metadata": {},
   "source": [
    "3. Given a string, reverse the order of characters using string slicing and print the reversed string."
   ]
  },
  {
   "cell_type": "code",
   "execution_count": null,
   "id": "219ad6e2-e08f-44bf-ba6b-888955d2cfa1",
   "metadata": {},
   "outputs": [],
   "source": [
    "user_input = input(\"Enter your string: \")\n",
    "rev_string = user_input[::-1]\n",
    "print(f\"Reversed String: {rev_string}\")"
   ]
  },
  {
   "cell_type": "markdown",
   "id": "2e7928f4-1673-477c-82ad-6f35e030be24",
   "metadata": {},
   "source": [
    "4. Write a program that takes a string as input and checks if it is a palindrome (reads the same forwards and backwards).example: civic, radar, level, rotor, kayak, madam, and refer"
   ]
  },
  {
   "cell_type": "code",
   "execution_count": null,
   "id": "9134370b-b390-408e-b342-d3aa79e72ef9",
   "metadata": {},
   "outputs": [],
   "source": [
    "user_input = input(\"Enter your string: \")\n",
    "rev_string = user_input[::-1]\n",
    "\n",
    "if user_input == rev_string:\n",
    "    print(\"Entered string is a palindrome\")\n",
    "else:\n",
    "    print(\"Entered string is NOT a palindrome\")"
   ]
  },
  {
   "cell_type": "markdown",
   "id": "0c8e1d39-db61-4c19-82ea-67f79e0ec0f3",
   "metadata": {},
   "source": [
    "5. Create a program that takes a string as input and removes all the spaces from it. Print the modified string without spaces."
   ]
  },
  {
   "cell_type": "code",
   "execution_count": null,
   "id": "c4d387bf-0a56-4de7-992c-818ed9247018",
   "metadata": {},
   "outputs": [],
   "source": [
    "user_input = input(\"Enter your string: \")\n",
    "format_String = user_input.replace(\" \", \"\")\n",
    "print(format_String)"
   ]
  }
 ],
 "metadata": {
  "kernelspec": {
   "display_name": "Python 3 (ipykernel)",
   "language": "python",
   "name": "python3"
  },
  "language_info": {
   "codemirror_mode": {
    "name": "ipython",
    "version": 3
   },
   "file_extension": ".py",
   "mimetype": "text/x-python",
   "name": "python",
   "nbconvert_exporter": "python",
   "pygments_lexer": "ipython3",
   "version": "3.10.8"
  }
 },
 "nbformat": 4,
 "nbformat_minor": 5
}
